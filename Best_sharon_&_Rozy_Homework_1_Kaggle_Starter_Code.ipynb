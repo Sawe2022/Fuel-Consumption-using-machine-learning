{
 "cells": [
  {
   "cell_type": "markdown",
   "metadata": {
    "id": "GXc4uxkeKWV5"
   },
   "source": [
    "# Homework #1: Predicting Fuel Consumption\n",
    "\n",
    "### Machine Learning and Computational Statistics (DSC6232)\n",
    "\n",
    "#### Instructors: Weiwei Pan, Melanie Fernandez, Pavlos Protopapas\n",
    "\n",
    "#### Due: June 25th, 2:00 pm Kigali Time"
   ]
  },
  {
   "cell_type": "code",
   "execution_count": 1,
   "metadata": {
    "id": "spnSb2MwuGWA"
   },
   "outputs": [
    {
     "ename": "ModuleNotFoundError",
     "evalue": "No module named 'keras'",
     "output_type": "error",
     "traceback": [
      "\u001b[1;31m---------------------------------------------------------------------------\u001b[0m",
      "\u001b[1;31mModuleNotFoundError\u001b[0m                       Traceback (most recent call last)",
      "\u001b[1;32m<ipython-input-1-1544b2836c54>\u001b[0m in \u001b[0;36m<module>\u001b[1;34m()\u001b[0m\n\u001b[0;32m     19\u001b[0m \u001b[1;33m\u001b[0m\u001b[0m\n\u001b[0;32m     20\u001b[0m \u001b[1;31m#import libraries for implementing neural networks\u001b[0m\u001b[1;33m\u001b[0m\u001b[1;33m\u001b[0m\u001b[0m\n\u001b[1;32m---> 21\u001b[1;33m \u001b[1;32mimport\u001b[0m \u001b[0mkeras\u001b[0m\u001b[1;33m\u001b[0m\u001b[0m\n\u001b[0m\u001b[0;32m     22\u001b[0m \u001b[1;32mfrom\u001b[0m \u001b[0mkeras\u001b[0m\u001b[1;33m.\u001b[0m\u001b[0mmodels\u001b[0m \u001b[1;32mimport\u001b[0m \u001b[0mSequential\u001b[0m\u001b[1;33m\u001b[0m\u001b[0m\n\u001b[0;32m     23\u001b[0m \u001b[1;32mfrom\u001b[0m \u001b[0mkeras\u001b[0m\u001b[1;33m.\u001b[0m\u001b[0mlayers\u001b[0m \u001b[1;32mimport\u001b[0m \u001b[0mDense\u001b[0m\u001b[1;33m\u001b[0m\u001b[0m\n",
      "\u001b[1;31mModuleNotFoundError\u001b[0m: No module named 'keras'"
     ]
    }
   ],
   "source": [
    "# as usual, let us load all the necessary libraries\n",
    "import numpy as np  # numerical computation with arrays\n",
    "import pandas as pd # library to manipulate datasets using dataframes\n",
    "import scipy as sp  # statistical library\n",
    "#from google.colab import files\n",
    "from sklearn.model_selection import train_test_split\n",
    "\n",
    "# below sklearn libraries for different models\n",
    "from sklearn.tree import DecisionTreeClassifier as DecisionTree\n",
    "from sklearn.tree import DecisionTreeRegressor\n",
    "from sklearn.ensemble import RandomForestClassifier as RandomForest\n",
    "from sklearn.linear_model import Ridge, Lasso\n",
    "from sklearn.preprocessing import PolynomialFeatures\n",
    "from sklearn.linear_model import LogisticRegression\n",
    "from sklearn.linear_model import LinearRegression\n",
    "from sklearn.impute import KNNImputer\n",
    "from sklearn.metrics import mean_squared_error\n",
    "from sklearn.preprocessing import MinMaxScaler\n",
    "\n",
    "#import libraries for implementing neural networks\n",
    "import keras\n",
    "from keras.models import Sequential\n",
    "from keras.layers import Dense\n",
    "from keras.optimizers import SGD, Adam\n",
    "from keras.regularizers import l2\n",
    "\n",
    "# plot \n",
    "import matplotlib\n",
    "import matplotlib.pyplot as plt\n",
    "%matplotlib inline"
   ]
  },
  {
   "cell_type": "markdown",
   "metadata": {
    "id": "bANkoD_UWdZM"
   },
   "source": [
    "# Loading Competition Data\n",
    "Run all the steps below to obtain the data"
   ]
  },
  {
   "cell_type": "code",
   "execution_count": 2,
   "metadata": {
    "colab": {
     "base_uri": "https://localhost:8080/",
     "height": 141
    },
    "id": "emBK0x1i8Vf1",
    "outputId": "4358ff84-4864-4495-b0a8-2165ddc24740"
   },
   "outputs": [
    {
     "data": {
      "text/html": [
       "<div>\n",
       "<style scoped>\n",
       "    .dataframe tbody tr th:only-of-type {\n",
       "        vertical-align: middle;\n",
       "    }\n",
       "\n",
       "    .dataframe tbody tr th {\n",
       "        vertical-align: top;\n",
       "    }\n",
       "\n",
       "    .dataframe thead th {\n",
       "        text-align: right;\n",
       "    }\n",
       "</style>\n",
       "<table border=\"1\" class=\"dataframe\">\n",
       "  <thead>\n",
       "    <tr style=\"text-align: right;\">\n",
       "      <th></th>\n",
       "      <th>cylinders</th>\n",
       "      <th>displacement</th>\n",
       "      <th>horsepower</th>\n",
       "      <th>weight</th>\n",
       "      <th>acceleration</th>\n",
       "      <th>model year</th>\n",
       "      <th>origin</th>\n",
       "      <th>car name</th>\n",
       "      <th>fuel (L/100km)</th>\n",
       "    </tr>\n",
       "  </thead>\n",
       "  <tbody>\n",
       "    <tr>\n",
       "      <th>0</th>\n",
       "      <td>4</td>\n",
       "      <td>106.0</td>\n",
       "      <td>63.00</td>\n",
       "      <td>2123.0</td>\n",
       "      <td>14.7</td>\n",
       "      <td>82</td>\n",
       "      <td>1</td>\n",
       "      <td>\"amc hornet\"</td>\n",
       "      <td>6.189737</td>\n",
       "    </tr>\n",
       "    <tr>\n",
       "      <th>1</th>\n",
       "      <td>8</td>\n",
       "      <td>400.0</td>\n",
       "      <td>150.0</td>\n",
       "      <td>3760.0</td>\n",
       "      <td>8.5</td>\n",
       "      <td>70</td>\n",
       "      <td>1</td>\n",
       "      <td>\"dodge challenger se\"</td>\n",
       "      <td>15.680667</td>\n",
       "    </tr>\n",
       "    <tr>\n",
       "      <th>2</th>\n",
       "      <td>4</td>\n",
       "      <td>104.0</td>\n",
       "      <td>70.00</td>\n",
       "      <td>2150.0</td>\n",
       "      <td>13.9</td>\n",
       "      <td>79</td>\n",
       "      <td>1</td>\n",
       "      <td>\"honda civic cvcc\"</td>\n",
       "      <td>6.817681</td>\n",
       "    </tr>\n",
       "  </tbody>\n",
       "</table>\n",
       "</div>"
      ],
      "text/plain": [
       "   cylinders  displacement  horsepower  weight  acceleration  model year  \\\n",
       "0          4         106.0     63.00    2123.0          14.7          82   \n",
       "1          8         400.0     150.0    3760.0           8.5          70   \n",
       "2          4         104.0     70.00    2150.0          13.9          79   \n",
       "\n",
       "   origin                  car name  fuel (L/100km)  \n",
       "0       1              \"amc hornet\"        6.189737  \n",
       "1       1     \"dodge challenger se\"       15.680667  \n",
       "2       1        \"honda civic cvcc\"        6.817681  "
      ]
     },
     "execution_count": 2,
     "metadata": {},
     "output_type": "execute_result"
    }
   ],
   "source": [
    "# Read training data\n",
    "train_data = pd.read_csv('https://raw.githubusercontent.com/onefishy/Rwanda-course-2020/master/Competition_data/train.csv') # read in the data as a DataFrame\n",
    "train_data.head(3) # show the first 3 rows of the dataset"
   ]
  },
  {
   "cell_type": "code",
   "execution_count": 3,
   "metadata": {
    "colab": {
     "base_uri": "https://localhost:8080/",
     "height": 263
    },
    "id": "mAvRL2oNf8Qw",
    "outputId": "6aed636b-b27b-4e03-fcc4-9a4783cc5202"
   },
   "outputs": [
    {
     "data": {
      "text/html": [
       "<div>\n",
       "<style scoped>\n",
       "    .dataframe tbody tr th:only-of-type {\n",
       "        vertical-align: middle;\n",
       "    }\n",
       "\n",
       "    .dataframe tbody tr th {\n",
       "        vertical-align: top;\n",
       "    }\n",
       "\n",
       "    .dataframe thead th {\n",
       "        text-align: right;\n",
       "    }\n",
       "</style>\n",
       "<table border=\"1\" class=\"dataframe\">\n",
       "  <thead>\n",
       "    <tr style=\"text-align: right;\">\n",
       "      <th></th>\n",
       "      <th>mean</th>\n",
       "      <th>max</th>\n",
       "      <th>min</th>\n",
       "    </tr>\n",
       "  </thead>\n",
       "  <tbody>\n",
       "    <tr>\n",
       "      <th>cylinders</th>\n",
       "      <td>5.412752</td>\n",
       "      <td>8.000000</td>\n",
       "      <td>3.000000</td>\n",
       "    </tr>\n",
       "    <tr>\n",
       "      <th>displacement</th>\n",
       "      <td>189.921141</td>\n",
       "      <td>455.000000</td>\n",
       "      <td>67.000000</td>\n",
       "    </tr>\n",
       "    <tr>\n",
       "      <th>weight</th>\n",
       "      <td>2769.526846</td>\n",
       "      <td>5141.000000</td>\n",
       "      <td>-4294.000000</td>\n",
       "    </tr>\n",
       "    <tr>\n",
       "      <th>acceleration</th>\n",
       "      <td>15.643624</td>\n",
       "      <td>24.700000</td>\n",
       "      <td>8.500000</td>\n",
       "    </tr>\n",
       "    <tr>\n",
       "      <th>model year</th>\n",
       "      <td>76.013423</td>\n",
       "      <td>82.000000</td>\n",
       "      <td>70.000000</td>\n",
       "    </tr>\n",
       "    <tr>\n",
       "      <th>origin</th>\n",
       "      <td>1.577181</td>\n",
       "      <td>3.000000</td>\n",
       "      <td>1.000000</td>\n",
       "    </tr>\n",
       "    <tr>\n",
       "      <th>fuel (L/100km)</th>\n",
       "      <td>11.151093</td>\n",
       "      <td>26.134444</td>\n",
       "      <td>5.273767</td>\n",
       "    </tr>\n",
       "  </tbody>\n",
       "</table>\n",
       "</div>"
      ],
      "text/plain": [
       "                       mean          max          min\n",
       "cylinders          5.412752     8.000000     3.000000\n",
       "displacement     189.921141   455.000000    67.000000\n",
       "weight          2769.526846  5141.000000 -4294.000000\n",
       "acceleration      15.643624    24.700000     8.500000\n",
       "model year        76.013423    82.000000    70.000000\n",
       "origin             1.577181     3.000000     1.000000\n",
       "fuel (L/100km)    11.151093    26.134444     5.273767"
      ]
     },
     "execution_count": 3,
     "metadata": {},
     "output_type": "execute_result"
    }
   ],
   "source": [
    "d = train_data.describe().T\n",
    "d[['mean', 'max', 'min']]"
   ]
  },
  {
   "cell_type": "code",
   "execution_count": 4,
   "metadata": {
    "colab": {
     "base_uri": "https://localhost:8080/",
     "height": 191
    },
    "id": "a8l-eAi2hGbR",
    "outputId": "5cce0044-ae31-4144-dcd0-d76672a52230"
   },
   "outputs": [
    {
     "data": {
      "text/plain": [
       "cylinders         0\n",
       "displacement      0\n",
       "horsepower        0\n",
       "weight            0\n",
       "acceleration      0\n",
       "model year        0\n",
       "origin            0\n",
       "car name          0\n",
       "fuel (L/100km)    0\n",
       "dtype: int64"
      ]
     },
     "execution_count": 4,
     "metadata": {},
     "output_type": "execute_result"
    }
   ],
   "source": [
    "train_data.isna().sum()\n",
    "#train_data.dropna()"
   ]
  },
  {
   "cell_type": "code",
   "execution_count": 8,
   "metadata": {},
   "outputs": [
    {
     "data": {
      "text/plain": [
       "cylinders           int64\n",
       "displacement      float64\n",
       "horsepower         object\n",
       "weight            float64\n",
       "acceleration      float64\n",
       "model year          int64\n",
       "origin              int64\n",
       "car name           object\n",
       "fuel (L/100km)    float64\n",
       "dtype: object"
      ]
     },
     "execution_count": 8,
     "metadata": {},
     "output_type": "execute_result"
    }
   ],
   "source": [
    "train_data.dtypes"
   ]
  },
  {
   "cell_type": "code",
   "execution_count": 9,
   "metadata": {},
   "outputs": [
    {
     "name": "stdout",
     "output_type": "stream",
     "text": [
      "<class 'pandas.core.frame.DataFrame'>\n"
     ]
    }
   ],
   "source": [
    "print(type(train_data))"
   ]
  },
  {
   "cell_type": "code",
   "execution_count": 10,
   "metadata": {
    "id": "dpMfyq2Gs1Ru"
   },
   "outputs": [],
   "source": [
    "df = pd.DataFrame(train_data)"
   ]
  },
  {
   "cell_type": "code",
   "execution_count": 11,
   "metadata": {
    "colab": {
     "base_uri": "https://localhost:8080/",
     "height": 295
    },
    "id": "AoR-5abYhh9s",
    "outputId": "684bde35-eb74-4490-8db1-79ac9299b2a0"
   },
   "outputs": [
    {
     "name": "stdout",
     "output_type": "stream",
     "text": [
      "<class 'pandas.core.frame.DataFrame'>\n",
      "RangeIndex: 298 entries, 0 to 297\n",
      "Data columns (total 9 columns):\n",
      " #   Column          Non-Null Count  Dtype  \n",
      "---  ------          --------------  -----  \n",
      " 0   cylinders       298 non-null    int64  \n",
      " 1   displacement    298 non-null    float64\n",
      " 2   horsepower      298 non-null    object \n",
      " 3   weight          298 non-null    float64\n",
      " 4   acceleration    298 non-null    float64\n",
      " 5   model year      298 non-null    int64  \n",
      " 6   origin          298 non-null    int64  \n",
      " 7   car name        298 non-null    object \n",
      " 8   fuel (L/100km)  298 non-null    float64\n",
      "dtypes: float64(4), int64(3), object(2)\n",
      "memory usage: 21.1+ KB\n"
     ]
    }
   ],
   "source": [
    "df.info()"
   ]
  },
  {
   "cell_type": "code",
   "execution_count": 12,
   "metadata": {},
   "outputs": [
    {
     "data": {
      "text/plain": [
       "Index(['cylinders', 'displacement', 'horsepower', 'weight', 'acceleration',\n",
       "       'model year', 'origin', 'car name', 'fuel (L/100km)'],\n",
       "      dtype='object')"
      ]
     },
     "execution_count": 12,
     "metadata": {},
     "output_type": "execute_result"
    }
   ],
   "source": [
    "df.columns"
   ]
  },
  {
   "cell_type": "code",
   "execution_count": null,
   "metadata": {
    "colab": {
     "base_uri": "https://localhost:8080/",
     "height": 173
    },
    "id": "9BPxVx9moLSu",
    "outputId": "bb4866d4-d098-40de-cc19-e58271c895f6"
   },
   "outputs": [
    {
     "data": {
      "text/plain": [
       "['cylinders',\n",
       " 'displacement',\n",
       " 'horsepower',\n",
       " 'weight',\n",
       " 'acceleration',\n",
       " 'model year',\n",
       " 'origin',\n",
       " 'car name',\n",
       " 'fuel (L/100km)']"
      ]
     },
     "execution_count": 201,
     "metadata": {
      "tags": []
     },
     "output_type": "execute_result"
    }
   ],
   "source": [
    "list(df.columns)"
   ]
  },
  {
   "cell_type": "code",
   "execution_count": 14,
   "metadata": {
    "colab": {
     "base_uri": "https://localhost:8080/",
     "height": 141
    },
    "id": "UqrhOJv_Lafq",
    "outputId": "e4d9f8e5-086f-47d7-d3f3-e345a8f954fd"
   },
   "outputs": [
    {
     "data": {
      "text/html": [
       "<div>\n",
       "<style scoped>\n",
       "    .dataframe tbody tr th:only-of-type {\n",
       "        vertical-align: middle;\n",
       "    }\n",
       "\n",
       "    .dataframe tbody tr th {\n",
       "        vertical-align: top;\n",
       "    }\n",
       "\n",
       "    .dataframe thead th {\n",
       "        text-align: right;\n",
       "    }\n",
       "</style>\n",
       "<table border=\"1\" class=\"dataframe\">\n",
       "  <thead>\n",
       "    <tr style=\"text-align: right;\">\n",
       "      <th></th>\n",
       "      <th>cylinders</th>\n",
       "      <th>displacement</th>\n",
       "      <th>horsepower</th>\n",
       "      <th>weight</th>\n",
       "      <th>acceleration</th>\n",
       "      <th>model year</th>\n",
       "      <th>origin</th>\n",
       "      <th>car name</th>\n",
       "    </tr>\n",
       "  </thead>\n",
       "  <tbody>\n",
       "    <tr>\n",
       "      <th>0</th>\n",
       "      <td>4</td>\n",
       "      <td>122.0</td>\n",
       "      <td>80.0</td>\n",
       "      <td>2450.0</td>\n",
       "      <td>15.5</td>\n",
       "      <td>74</td>\n",
       "      <td>1</td>\n",
       "      <td>\"ford galaxie 500\"</td>\n",
       "    </tr>\n",
       "    <tr>\n",
       "      <th>1</th>\n",
       "      <td>6</td>\n",
       "      <td>257.0</td>\n",
       "      <td>95.0</td>\n",
       "      <td>3191.0</td>\n",
       "      <td>17.8</td>\n",
       "      <td>76</td>\n",
       "      <td>1</td>\n",
       "      <td>\"ford pinto\"</td>\n",
       "    </tr>\n",
       "    <tr>\n",
       "      <th>2</th>\n",
       "      <td>4</td>\n",
       "      <td>87.0</td>\n",
       "      <td>65.0</td>\n",
       "      <td>2108.0</td>\n",
       "      <td>18.9</td>\n",
       "      <td>80</td>\n",
       "      <td>3</td>\n",
       "      <td>\"plymouth duster\"</td>\n",
       "    </tr>\n",
       "  </tbody>\n",
       "</table>\n",
       "</div>"
      ],
      "text/plain": [
       "   cylinders  displacement  horsepower  weight  acceleration  model year  \\\n",
       "0          4         122.0        80.0  2450.0          15.5          74   \n",
       "1          6         257.0        95.0  3191.0          17.8          76   \n",
       "2          4          87.0        65.0  2108.0          18.9          80   \n",
       "\n",
       "   origin               car name  \n",
       "0       1     \"ford galaxie 500\"  \n",
       "1       1           \"ford pinto\"  \n",
       "2       3      \"plymouth duster\"  "
      ]
     },
     "execution_count": 14,
     "metadata": {},
     "output_type": "execute_result"
    }
   ],
   "source": [
    "# Read test data \n",
    "test_data = pd.read_csv('https://raw.githubusercontent.com/onefishy/Rwanda-course-2020/master/Competition_data/test.csv') # read in the data as a DataFrame\n",
    "test_data.head(3) # show the first 3 rows of the dataset"
   ]
  },
  {
   "cell_type": "code",
   "execution_count": 15,
   "metadata": {
    "colab": {
     "base_uri": "https://localhost:8080/",
     "height": 156
    },
    "id": "Cn2Im0u0ktgX",
    "outputId": "b82735dc-bba1-4660-ab65-ef72afb3ee08"
   },
   "outputs": [
    {
     "data": {
      "text/plain": [
       "['cylinders',\n",
       " 'displacement',\n",
       " 'horsepower',\n",
       " 'weight',\n",
       " 'acceleration',\n",
       " 'model year',\n",
       " 'origin',\n",
       " 'car name']"
      ]
     },
     "execution_count": 15,
     "metadata": {},
     "output_type": "execute_result"
    }
   ],
   "source": [
    "list(test_data.columns)"
   ]
  },
  {
   "cell_type": "code",
   "execution_count": 18,
   "metadata": {
    "id": "6nCtq87B9GQv"
   },
   "outputs": [
    {
     "data": {
      "text/plain": [
       "cylinders       0\n",
       "displacement    0\n",
       "horsepower      0\n",
       "weight          0\n",
       "acceleration    0\n",
       "model year      0\n",
       "origin          0\n",
       "car name        0\n",
       "dtype: int64"
      ]
     },
     "execution_count": 18,
     "metadata": {},
     "output_type": "execute_result"
    }
   ],
   "source": [
    "test_data.isna().sum()"
   ]
  },
  {
   "cell_type": "code",
   "execution_count": 19,
   "metadata": {},
   "outputs": [
    {
     "data": {
      "text/plain": [
       "100"
      ]
     },
     "execution_count": 19,
     "metadata": {},
     "output_type": "execute_result"
    }
   ],
   "source": [
    "len(test_data)"
   ]
  },
  {
   "cell_type": "code",
   "execution_count": 20,
   "metadata": {},
   "outputs": [
    {
     "data": {
      "text/plain": [
       "298"
      ]
     },
     "execution_count": 20,
     "metadata": {},
     "output_type": "execute_result"
    }
   ],
   "source": [
    "len(df)"
   ]
  },
  {
   "cell_type": "code",
   "execution_count": 21,
   "metadata": {
    "colab": {
     "base_uri": "https://localhost:8080/",
     "height": 69
    },
    "id": "N8fW9x6SYj32",
    "outputId": "4276332f-3fdb-4c14-d02e-cfda2b4da440"
   },
   "outputs": [
    {
     "name": "stdout",
     "output_type": "stream",
     "text": [
      "298\n",
      "13\n",
      "285\n"
     ]
    }
   ],
   "source": [
    "print(len(df['model year']))\n",
    "print(len(df['model year'].unique()))\n",
    "print(len(df['model year']) - len(df['model year'].unique()))"
   ]
  },
  {
   "cell_type": "code",
   "execution_count": 22,
   "metadata": {
    "colab": {
     "base_uri": "https://localhost:8080/",
     "height": 199
    },
    "id": "vTUqPWRBZ2bH",
    "outputId": "d20013bf-ed6f-485b-8a36-48b15efb7dff"
   },
   "outputs": [
    {
     "data": {
      "text/html": [
       "<div>\n",
       "<style scoped>\n",
       "    .dataframe tbody tr th:only-of-type {\n",
       "        vertical-align: middle;\n",
       "    }\n",
       "\n",
       "    .dataframe tbody tr th {\n",
       "        vertical-align: top;\n",
       "    }\n",
       "\n",
       "    .dataframe thead th {\n",
       "        text-align: right;\n",
       "    }\n",
       "</style>\n",
       "<table border=\"1\" class=\"dataframe\">\n",
       "  <thead>\n",
       "    <tr style=\"text-align: right;\">\n",
       "      <th></th>\n",
       "      <th>cylinders</th>\n",
       "      <th>displacement</th>\n",
       "      <th>horsepower</th>\n",
       "      <th>weight</th>\n",
       "      <th>acceleration</th>\n",
       "      <th>origin</th>\n",
       "      <th>car name</th>\n",
       "      <th>fuel (L/100km)</th>\n",
       "      <th>model year_70</th>\n",
       "      <th>model year_71</th>\n",
       "      <th>...</th>\n",
       "      <th>model year_73</th>\n",
       "      <th>model year_74</th>\n",
       "      <th>model year_75</th>\n",
       "      <th>model year_76</th>\n",
       "      <th>model year_77</th>\n",
       "      <th>model year_78</th>\n",
       "      <th>model year_79</th>\n",
       "      <th>model year_80</th>\n",
       "      <th>model year_81</th>\n",
       "      <th>model year_82</th>\n",
       "    </tr>\n",
       "  </thead>\n",
       "  <tbody>\n",
       "    <tr>\n",
       "      <th>0</th>\n",
       "      <td>4</td>\n",
       "      <td>106.0</td>\n",
       "      <td>63.00</td>\n",
       "      <td>2123.0</td>\n",
       "      <td>14.7</td>\n",
       "      <td>1</td>\n",
       "      <td>\"amc hornet\"</td>\n",
       "      <td>6.189737</td>\n",
       "      <td>0</td>\n",
       "      <td>0</td>\n",
       "      <td>...</td>\n",
       "      <td>0</td>\n",
       "      <td>0</td>\n",
       "      <td>0</td>\n",
       "      <td>0</td>\n",
       "      <td>0</td>\n",
       "      <td>0</td>\n",
       "      <td>0</td>\n",
       "      <td>0</td>\n",
       "      <td>0</td>\n",
       "      <td>1</td>\n",
       "    </tr>\n",
       "    <tr>\n",
       "      <th>1</th>\n",
       "      <td>8</td>\n",
       "      <td>400.0</td>\n",
       "      <td>150.0</td>\n",
       "      <td>3760.0</td>\n",
       "      <td>8.5</td>\n",
       "      <td>1</td>\n",
       "      <td>\"dodge challenger se\"</td>\n",
       "      <td>15.680667</td>\n",
       "      <td>1</td>\n",
       "      <td>0</td>\n",
       "      <td>...</td>\n",
       "      <td>0</td>\n",
       "      <td>0</td>\n",
       "      <td>0</td>\n",
       "      <td>0</td>\n",
       "      <td>0</td>\n",
       "      <td>0</td>\n",
       "      <td>0</td>\n",
       "      <td>0</td>\n",
       "      <td>0</td>\n",
       "      <td>0</td>\n",
       "    </tr>\n",
       "  </tbody>\n",
       "</table>\n",
       "<p>2 rows × 21 columns</p>\n",
       "</div>"
      ],
      "text/plain": [
       "   cylinders  displacement  horsepower  weight  acceleration  origin  \\\n",
       "0          4         106.0     63.00    2123.0          14.7       1   \n",
       "1          8         400.0     150.0    3760.0           8.5       1   \n",
       "\n",
       "                   car name  fuel (L/100km)  model year_70  model year_71  \\\n",
       "0              \"amc hornet\"        6.189737              0              0   \n",
       "1     \"dodge challenger se\"       15.680667              1              0   \n",
       "\n",
       "   ...  model year_73  model year_74  model year_75  model year_76  \\\n",
       "0  ...              0              0              0              0   \n",
       "1  ...              0              0              0              0   \n",
       "\n",
       "   model year_77  model year_78  model year_79  model year_80  model year_81  \\\n",
       "0              0              0              0              0              0   \n",
       "1              0              0              0              0              0   \n",
       "\n",
       "   model year_82  \n",
       "0              1  \n",
       "1              0  \n",
       "\n",
       "[2 rows x 21 columns]"
      ]
     },
     "execution_count": 22,
     "metadata": {},
     "output_type": "execute_result"
    }
   ],
   "source": [
    "# Step 1: one hot encode the categorical covariate 'nationality'\n",
    "one_hot_model_year = pd.get_dummies(df['model year'], prefix='model year')\n",
    "\n",
    "# Step 2: use pd.concat to join the new columns with your original dataframe\n",
    "df = pd.concat([df, one_hot_model_year], axis=1)\n",
    "\n",
    "# Stpe 3: now drop the original 'country' column (you don't need it anymore)\n",
    "df.drop(['model year'], axis=1, inplace=True)\n",
    "\n",
    "# Step 4: print the resultant dataframe\n",
    "df.head(2)"
   ]
  },
  {
   "cell_type": "code",
   "execution_count": 23,
   "metadata": {
    "id": "z897Gb8UlBJA"
   },
   "outputs": [],
   "source": [
    "# Step 1: one hot encode the categorical covariate 'nationality'\n",
    "one_hot_model_year = pd.get_dummies(test_data['model year'], prefix='model year')\n",
    "\n",
    "# Step 2: use pd.concat to join the new columns with your original dataframe\n",
    "test_data = pd.concat([test_data, one_hot_model_year], axis=1)\n",
    "\n",
    "# Stpe 3: now drop the original 'country' column (you don't need it anymore)\n",
    "test_data.drop(['model year'], axis=1, inplace=True)"
   ]
  },
  {
   "cell_type": "code",
   "execution_count": 24,
   "metadata": {
    "colab": {
     "base_uri": "https://localhost:8080/",
     "height": 69
    },
    "id": "wtCIfpppY3dO",
    "outputId": "1d3e176b-a804-415d-b583-8db45627e736"
   },
   "outputs": [
    {
     "name": "stdout",
     "output_type": "stream",
     "text": [
      "298\n",
      "3\n",
      "295\n"
     ]
    }
   ],
   "source": [
    "print(len(df['origin']))\n",
    "print(len(df['origin'].unique()))\n",
    "print(len(df['origin']) - len(df['origin'].unique()))"
   ]
  },
  {
   "cell_type": "code",
   "execution_count": 25,
   "metadata": {
    "id": "orVeJH_KaJ93"
   },
   "outputs": [],
   "source": [
    "# # Step 1: one hot encode the categorical covariate 'nationality'\n",
    "# one_hot_origin = pd.get_dummies(df['origin'], prefix='origin')\n",
    "\n",
    "# # Step 2: use pd.concat to join the new columns with your original dataframe\n",
    "# df = pd.concat([df, one_hot_origin], axis=1)\n",
    "\n",
    "# # Stpe 3: now drop the original 'country' column (you don't need it anymore)\n",
    "# df.drop(['origin'], axis=1, inplace=True)\n",
    "\n",
    "# # Step 4: print the resultant dataframe\n",
    "# df.head(2)"
   ]
  },
  {
   "cell_type": "code",
   "execution_count": 26,
   "metadata": {
    "id": "oEM-ilLVo3j8"
   },
   "outputs": [],
   "source": [
    "# # Step 1: one hot encode the categorical covariate 'nationality'\n",
    "# one_hot_origin = pd.get_dummies(test_data['origin'], prefix='origin')\n",
    "\n",
    "# # Step 2: use pd.concat to join the new columns with your original dataframe\n",
    "# test_data = pd.concat([test_data, one_hot_origin], axis=1)\n",
    "\n",
    "# # Stpe 3: now drop the original 'country' column (you don't need it anymore)\n",
    "# test_data.drop(['origin'], axis=1, inplace=True)\n",
    "\n",
    "# # Step 4: print the resultant dataframe\n",
    "# test_data.head(2)"
   ]
  },
  {
   "cell_type": "code",
   "execution_count": 27,
   "metadata": {
    "colab": {
     "base_uri": "https://localhost:8080/",
     "height": 199
    },
    "id": "2v7F0NyoFOgM",
    "outputId": "b42f7db4-724e-4121-fa7f-b994307b8694"
   },
   "outputs": [
    {
     "data": {
      "text/html": [
       "<div>\n",
       "<style scoped>\n",
       "    .dataframe tbody tr th:only-of-type {\n",
       "        vertical-align: middle;\n",
       "    }\n",
       "\n",
       "    .dataframe tbody tr th {\n",
       "        vertical-align: top;\n",
       "    }\n",
       "\n",
       "    .dataframe thead th {\n",
       "        text-align: right;\n",
       "    }\n",
       "</style>\n",
       "<table border=\"1\" class=\"dataframe\">\n",
       "  <thead>\n",
       "    <tr style=\"text-align: right;\">\n",
       "      <th></th>\n",
       "      <th>displacement</th>\n",
       "      <th>horsepower</th>\n",
       "      <th>weight</th>\n",
       "      <th>acceleration</th>\n",
       "      <th>origin</th>\n",
       "      <th>car name</th>\n",
       "      <th>model year_70</th>\n",
       "      <th>model year_71</th>\n",
       "      <th>model year_72</th>\n",
       "      <th>model year_73</th>\n",
       "      <th>...</th>\n",
       "      <th>model year_77</th>\n",
       "      <th>model year_78</th>\n",
       "      <th>model year_79</th>\n",
       "      <th>model year_80</th>\n",
       "      <th>model year_81</th>\n",
       "      <th>model year_82</th>\n",
       "      <th>cylinders_3</th>\n",
       "      <th>cylinders_4</th>\n",
       "      <th>cylinders_6</th>\n",
       "      <th>cylinders_8</th>\n",
       "    </tr>\n",
       "  </thead>\n",
       "  <tbody>\n",
       "    <tr>\n",
       "      <th>0</th>\n",
       "      <td>122.0</td>\n",
       "      <td>80.0</td>\n",
       "      <td>2450.0</td>\n",
       "      <td>15.5</td>\n",
       "      <td>1</td>\n",
       "      <td>\"ford galaxie 500\"</td>\n",
       "      <td>0</td>\n",
       "      <td>0</td>\n",
       "      <td>0</td>\n",
       "      <td>0</td>\n",
       "      <td>...</td>\n",
       "      <td>0</td>\n",
       "      <td>0</td>\n",
       "      <td>0</td>\n",
       "      <td>0</td>\n",
       "      <td>0</td>\n",
       "      <td>0</td>\n",
       "      <td>0</td>\n",
       "      <td>1</td>\n",
       "      <td>0</td>\n",
       "      <td>0</td>\n",
       "    </tr>\n",
       "    <tr>\n",
       "      <th>1</th>\n",
       "      <td>257.0</td>\n",
       "      <td>95.0</td>\n",
       "      <td>3191.0</td>\n",
       "      <td>17.8</td>\n",
       "      <td>1</td>\n",
       "      <td>\"ford pinto\"</td>\n",
       "      <td>0</td>\n",
       "      <td>0</td>\n",
       "      <td>0</td>\n",
       "      <td>0</td>\n",
       "      <td>...</td>\n",
       "      <td>0</td>\n",
       "      <td>0</td>\n",
       "      <td>0</td>\n",
       "      <td>0</td>\n",
       "      <td>0</td>\n",
       "      <td>0</td>\n",
       "      <td>0</td>\n",
       "      <td>0</td>\n",
       "      <td>1</td>\n",
       "      <td>0</td>\n",
       "    </tr>\n",
       "  </tbody>\n",
       "</table>\n",
       "<p>2 rows × 23 columns</p>\n",
       "</div>"
      ],
      "text/plain": [
       "   displacement  horsepower  weight  acceleration  origin  \\\n",
       "0         122.0        80.0  2450.0          15.5       1   \n",
       "1         257.0        95.0  3191.0          17.8       1   \n",
       "\n",
       "                car name  model year_70  model year_71  model year_72  \\\n",
       "0     \"ford galaxie 500\"              0              0              0   \n",
       "1           \"ford pinto\"              0              0              0   \n",
       "\n",
       "   model year_73  ...  model year_77  model year_78  model year_79  \\\n",
       "0              0  ...              0              0              0   \n",
       "1              0  ...              0              0              0   \n",
       "\n",
       "   model year_80  model year_81  model year_82  cylinders_3  cylinders_4  \\\n",
       "0              0              0              0            0            1   \n",
       "1              0              0              0            0            0   \n",
       "\n",
       "   cylinders_6  cylinders_8  \n",
       "0            0            0  \n",
       "1            1            0  \n",
       "\n",
       "[2 rows x 23 columns]"
      ]
     },
     "execution_count": 27,
     "metadata": {},
     "output_type": "execute_result"
    }
   ],
   "source": [
    "\n",
    "one_hot_cylinders = pd.get_dummies(test_data['cylinders'], prefix='cylinders')\n",
    "\n",
    "\n",
    "test_data = pd.concat([test_data, one_hot_cylinders], axis=1)\n",
    "\n",
    "test_data.drop(['cylinders'], axis=1, inplace=True)\n",
    "\n",
    "\n",
    "test_data.head(2)"
   ]
  },
  {
   "cell_type": "code",
   "execution_count": 28,
   "metadata": {
    "colab": {
     "base_uri": "https://localhost:8080/",
     "height": 199
    },
    "id": "e2mVr21vFmJm",
    "outputId": "0ae5c5c5-f62b-4419-dfa7-6628d72eaf9d"
   },
   "outputs": [
    {
     "data": {
      "text/html": [
       "<div>\n",
       "<style scoped>\n",
       "    .dataframe tbody tr th:only-of-type {\n",
       "        vertical-align: middle;\n",
       "    }\n",
       "\n",
       "    .dataframe tbody tr th {\n",
       "        vertical-align: top;\n",
       "    }\n",
       "\n",
       "    .dataframe thead th {\n",
       "        text-align: right;\n",
       "    }\n",
       "</style>\n",
       "<table border=\"1\" class=\"dataframe\">\n",
       "  <thead>\n",
       "    <tr style=\"text-align: right;\">\n",
       "      <th></th>\n",
       "      <th>displacement</th>\n",
       "      <th>horsepower</th>\n",
       "      <th>weight</th>\n",
       "      <th>acceleration</th>\n",
       "      <th>origin</th>\n",
       "      <th>car name</th>\n",
       "      <th>fuel (L/100km)</th>\n",
       "      <th>model year_70</th>\n",
       "      <th>model year_71</th>\n",
       "      <th>model year_72</th>\n",
       "      <th>...</th>\n",
       "      <th>model year_78</th>\n",
       "      <th>model year_79</th>\n",
       "      <th>model year_80</th>\n",
       "      <th>model year_81</th>\n",
       "      <th>model year_82</th>\n",
       "      <th>cylinders_3</th>\n",
       "      <th>cylinders_4</th>\n",
       "      <th>cylinders_5</th>\n",
       "      <th>cylinders_6</th>\n",
       "      <th>cylinders_8</th>\n",
       "    </tr>\n",
       "  </thead>\n",
       "  <tbody>\n",
       "    <tr>\n",
       "      <th>0</th>\n",
       "      <td>106.0</td>\n",
       "      <td>63.00</td>\n",
       "      <td>2123.0</td>\n",
       "      <td>14.7</td>\n",
       "      <td>1</td>\n",
       "      <td>\"amc hornet\"</td>\n",
       "      <td>6.189737</td>\n",
       "      <td>0</td>\n",
       "      <td>0</td>\n",
       "      <td>0</td>\n",
       "      <td>...</td>\n",
       "      <td>0</td>\n",
       "      <td>0</td>\n",
       "      <td>0</td>\n",
       "      <td>0</td>\n",
       "      <td>1</td>\n",
       "      <td>0</td>\n",
       "      <td>1</td>\n",
       "      <td>0</td>\n",
       "      <td>0</td>\n",
       "      <td>0</td>\n",
       "    </tr>\n",
       "    <tr>\n",
       "      <th>1</th>\n",
       "      <td>400.0</td>\n",
       "      <td>150.0</td>\n",
       "      <td>3760.0</td>\n",
       "      <td>8.5</td>\n",
       "      <td>1</td>\n",
       "      <td>\"dodge challenger se\"</td>\n",
       "      <td>15.680667</td>\n",
       "      <td>1</td>\n",
       "      <td>0</td>\n",
       "      <td>0</td>\n",
       "      <td>...</td>\n",
       "      <td>0</td>\n",
       "      <td>0</td>\n",
       "      <td>0</td>\n",
       "      <td>0</td>\n",
       "      <td>0</td>\n",
       "      <td>0</td>\n",
       "      <td>0</td>\n",
       "      <td>0</td>\n",
       "      <td>0</td>\n",
       "      <td>1</td>\n",
       "    </tr>\n",
       "  </tbody>\n",
       "</table>\n",
       "<p>2 rows × 25 columns</p>\n",
       "</div>"
      ],
      "text/plain": [
       "   displacement  horsepower  weight  acceleration  origin  \\\n",
       "0         106.0     63.00    2123.0          14.7       1   \n",
       "1         400.0     150.0    3760.0           8.5       1   \n",
       "\n",
       "                   car name  fuel (L/100km)  model year_70  model year_71  \\\n",
       "0              \"amc hornet\"        6.189737              0              0   \n",
       "1     \"dodge challenger se\"       15.680667              1              0   \n",
       "\n",
       "   model year_72  ...  model year_78  model year_79  model year_80  \\\n",
       "0              0  ...              0              0              0   \n",
       "1              0  ...              0              0              0   \n",
       "\n",
       "   model year_81  model year_82  cylinders_3  cylinders_4  cylinders_5  \\\n",
       "0              0              1            0            1            0   \n",
       "1              0              0            0            0            0   \n",
       "\n",
       "   cylinders_6  cylinders_8  \n",
       "0            0            0  \n",
       "1            0            1  \n",
       "\n",
       "[2 rows x 25 columns]"
      ]
     },
     "execution_count": 28,
     "metadata": {},
     "output_type": "execute_result"
    }
   ],
   "source": [
    "one_hot_cylinders = pd.get_dummies(df['cylinders'], prefix='cylinders')\n",
    "\n",
    "\n",
    "df = pd.concat([df, one_hot_cylinders], axis=1)\n",
    "\n",
    "df.drop(['cylinders'], axis=1, inplace=True)\n",
    "\n",
    "\n",
    "df.head(2)"
   ]
  },
  {
   "cell_type": "code",
   "execution_count": 29,
   "metadata": {
    "colab": {
     "base_uri": "https://localhost:8080/",
     "height": 69
    },
    "id": "M-zw2WTUZJu1",
    "outputId": "361a6522-b783-4b32-fe9d-8e761f23325a"
   },
   "outputs": [
    {
     "name": "stdout",
     "output_type": "stream",
     "text": [
      "298\n",
      "237\n",
      "61\n"
     ]
    }
   ],
   "source": [
    "print(len(df['car name']))\n",
    "print(len(df['car name'].unique()))\n",
    "print(len(df['car name']) - len(df['car name'].unique()))"
   ]
  },
  {
   "cell_type": "code",
   "execution_count": 30,
   "metadata": {
    "id": "ce1lYxQjaWv0"
   },
   "outputs": [],
   "source": [
    "# Stpe 3: now drop the car name variable because it has no importance\n",
    "df.drop(['car name'], axis=1, inplace=True)"
   ]
  },
  {
   "cell_type": "code",
   "execution_count": 31,
   "metadata": {
    "id": "BeXFFmY2mA87"
   },
   "outputs": [],
   "source": [
    "test_data.drop(['car name'], axis=1, inplace=True)"
   ]
  },
  {
   "cell_type": "code",
   "execution_count": 32,
   "metadata": {
    "id": "0QRhmxizatZe"
   },
   "outputs": [],
   "source": [
    "df.drop(['cylinders_5'], axis=1, inplace=True)"
   ]
  },
  {
   "cell_type": "code",
   "execution_count": null,
   "metadata": {
    "id": "wlINlYcYQM09"
   },
   "outputs": [],
   "source": []
  },
  {
   "cell_type": "code",
   "execution_count": 33,
   "metadata": {
    "id": "9cJlJOdXcQO3"
   },
   "outputs": [],
   "source": [
    "# df.drop(['cylinders_8'], axis=1, inplace=True)"
   ]
  },
  {
   "cell_type": "code",
   "execution_count": 34,
   "metadata": {
    "id": "CGntdn90Pt1G"
   },
   "outputs": [],
   "source": [
    "# test_data.drop(['cylinders_8'], axis=1, inplace=True)"
   ]
  },
  {
   "cell_type": "code",
   "execution_count": 35,
   "metadata": {
    "id": "7rxEDDp9P6Tg"
   },
   "outputs": [],
   "source": [
    "df.drop(['cylinders_3'], axis=1, inplace=True)"
   ]
  },
  {
   "cell_type": "code",
   "execution_count": 36,
   "metadata": {
    "id": "wL6qpBRjcRf3"
   },
   "outputs": [],
   "source": [
    "test_data.drop(['cylinders_3'], axis=1, inplace=True)"
   ]
  },
  {
   "cell_type": "code",
   "execution_count": 37,
   "metadata": {
    "id": "En6ftGWUzhWG"
   },
   "outputs": [],
   "source": [
    "df.drop(['cylinders_6'], axis=1, inplace=True)"
   ]
  },
  {
   "cell_type": "code",
   "execution_count": 38,
   "metadata": {
    "id": "QCNflbSczjkp"
   },
   "outputs": [],
   "source": [
    "test_data.drop(['cylinders_6'], axis=1, inplace=True)"
   ]
  },
  {
   "cell_type": "code",
   "execution_count": 39,
   "metadata": {
    "id": "pl0UVyZ3ctkU"
   },
   "outputs": [],
   "source": [
    "df.drop(['origin'], axis=1, inplace=True)"
   ]
  },
  {
   "cell_type": "code",
   "execution_count": 40,
   "metadata": {
    "id": "5l4bQqchcus9"
   },
   "outputs": [],
   "source": [
    "test_data.drop(['origin'], axis=1, inplace=True)"
   ]
  },
  {
   "cell_type": "code",
   "execution_count": 41,
   "metadata": {
    "colab": {
     "base_uri": "https://localhost:8080/",
     "height": 69
    },
    "id": "ommjQKmhVLFr",
    "outputId": "8db486d9-7010-4c0d-8d85-09545ab502d2"
   },
   "outputs": [
    {
     "name": "stdout",
     "output_type": "stream",
     "text": [
      "298\n",
      "87\n",
      "211\n"
     ]
    }
   ],
   "source": [
    "print(len(df['horsepower']))\n",
    "print(len(df['horsepower'].unique()))\n",
    "print(len(df['horsepower']) - len(df['horsepower'].unique()))"
   ]
  },
  {
   "cell_type": "code",
   "execution_count": 42,
   "metadata": {
    "colab": {
     "base_uri": "https://localhost:8080/",
     "height": 399
    },
    "id": "PtAtItVdWBxE",
    "outputId": "0b7fa562-9333-46f3-d79f-d02a4cebd986"
   },
   "outputs": [
    {
     "data": {
      "text/plain": [
       "array(['   63.00  ', '   150.0  ', '   70.00  ', '   68.00  ',\n",
       "       '   120.0  ', '   49.00  ', '   97.00  ', '   74.00  ',\n",
       "       '   88.00  ', '   170.0  ', '   90.00  ', '   130.0  ',\n",
       "       '   140.0  ', '   165.0  ', '   115.0  ', '   78.00  ',\n",
       "       '   81.00  ', '   180.0  ', '   95.00  ', '   75.00  ',\n",
       "       '   ?      ', '   85.00  ', '   125.0  ', '   190.0  ',\n",
       "       '   52.00  ', '   198.0  ', '   87.00  ', '   100.0  ',\n",
       "       '   83.00  ', '   64.00  ', '   110.0  ', '   108.0  ',\n",
       "       '   72.00  ', '   67.00  ', '   53.00  ', '   105.0  ',\n",
       "       '   80.00  ', '   98.00  ', '   91.00  ', '   60.00  ',\n",
       "       '   142.0  ', '   62.00  ', '   77.00  ', '   132.0  ',\n",
       "       '   175.0  ', '   148.0  ', '   71.00  ', '   145.0  ',\n",
       "       '   46.00  ', '   93.00  ', '   122.0  ', '   139.0  ',\n",
       "       '   79.00  ', '   84.00  ', '   215.0  ', '   76.00  ',\n",
       "       '   65.00  ', '   133.0  ', '   92.00  ', '   86.00  ',\n",
       "       '   220.0  ', '   137.0  ', '   61.00  ', '   69.00  ',\n",
       "       '   149.0  ', '   200.0  ', '   152.0  ', '   103.0  ',\n",
       "       '   155.0  ', '   208.0  ', '   129.0  ', '   96.00  ',\n",
       "       '   210.0  ', '   113.0  ', '   102.0  ', '   48.00  ',\n",
       "       '   112.0  ', '   193.0  ', '   107.0  ', '   158.0  ',\n",
       "       '   230.0  ', '   58.00  ', '   54.00  ', '   94.00  ',\n",
       "       '   66.00  ', '   153.0  ', '   160.0  '], dtype=object)"
      ]
     },
     "execution_count": 42,
     "metadata": {},
     "output_type": "execute_result"
    }
   ],
   "source": [
    "# Step 1: Remove\n",
    "df['horsepower'].unique()"
   ]
  },
  {
   "cell_type": "code",
   "execution_count": 43,
   "metadata": {
    "colab": {
     "base_uri": "https://localhost:8080/",
     "height": 104
    },
    "id": "sDBZgY-lmy-O",
    "outputId": "4248bed3-e3f9-4089-bff0-6b4845ae2f4a"
   },
   "outputs": [
    {
     "data": {
      "text/plain": [
       "array([ 80.,  95.,  65., 167., 150., 110.,  52.,  85.,  46.,  83.,  88.,\n",
       "        67., 155.,  72., 100.,  92.,  90., 170.,  63., 135.,  53.,  84.,\n",
       "       120., 225.,  89.,  78., 165.,  70.,  75., 125., 129., 140.,  62.,\n",
       "        58.,  97.,  68., 105.,  71., 153.,  96., 145., 112., 138., 160.,\n",
       "        82.,  48., 116., 175., 190.])"
      ]
     },
     "execution_count": 43,
     "metadata": {},
     "output_type": "execute_result"
    }
   ],
   "source": [
    "test_data['horsepower'].unique()"
   ]
  },
  {
   "cell_type": "code",
   "execution_count": 44,
   "metadata": {
    "id": "nxL_91iwQJrU"
   },
   "outputs": [],
   "source": [
    "#df['horsepower'] = df['horsepower'].str.strip()"
   ]
  },
  {
   "cell_type": "code",
   "execution_count": 45,
   "metadata": {
    "id": "Ar8S-5ffSNz6"
   },
   "outputs": [],
   "source": [
    "df['horsepower'] = pd.to_numeric(df['horsepower'],errors='coerce')\n"
   ]
  },
  {
   "cell_type": "code",
   "execution_count": 46,
   "metadata": {
    "colab": {
     "base_uri": "https://localhost:8080/",
     "height": 1000
    },
    "id": "U0dz4VG4-xJa",
    "outputId": "2a586aaa-03ae-4d2e-db2b-e123a54c5281"
   },
   "outputs": [
    {
     "data": {
      "text/plain": [
       "0      63.0\n",
       "1     150.0\n",
       "2      70.0\n",
       "3      68.0\n",
       "4     120.0\n",
       "5      49.0\n",
       "6      97.0\n",
       "7      74.0\n",
       "8      88.0\n",
       "9     170.0\n",
       "10     90.0\n",
       "11    130.0\n",
       "12     70.0\n",
       "13    140.0\n",
       "14    165.0\n",
       "15    115.0\n",
       "16     78.0\n",
       "17     68.0\n",
       "18     81.0\n",
       "19    180.0\n",
       "20    150.0\n",
       "21     95.0\n",
       "22     75.0\n",
       "23      NaN\n",
       "24     85.0\n",
       "25    125.0\n",
       "26    140.0\n",
       "27    190.0\n",
       "28     52.0\n",
       "29    190.0\n",
       "30    198.0\n",
       "31     70.0\n",
       "32     88.0\n",
       "33     87.0\n",
       "34    180.0\n",
       "35    100.0\n",
       "36     83.0\n",
       "37     90.0\n",
       "38    140.0\n",
       "39     75.0\n",
       "40     64.0\n",
       "41    110.0\n",
       "42    170.0\n",
       "43    110.0\n",
       "44    108.0\n",
       "45     72.0\n",
       "46      NaN\n",
       "47     67.0\n",
       "48     88.0\n",
       "49     53.0\n",
       "50    105.0\n",
       "51     80.0\n",
       "52    100.0\n",
       "53     68.0\n",
       "54    140.0\n",
       "55     88.0\n",
       "56     90.0\n",
       "57     88.0\n",
       "58     90.0\n",
       "Name: horsepower, dtype: float64"
      ]
     },
     "execution_count": 46,
     "metadata": {},
     "output_type": "execute_result"
    }
   ],
   "source": [
    "df.horsepower.head(59)"
   ]
  },
  {
   "cell_type": "code",
   "execution_count": 47,
   "metadata": {
    "colab": {
     "base_uri": "https://localhost:8080/",
     "height": 1000
    },
    "id": "xzVyyOo--7WA",
    "outputId": "c6e17690-1bd0-4875-c253-1991a1d9ec09"
   },
   "outputs": [
    {
     "data": {
      "text/plain": [
       "0      63.0\n",
       "1     150.0\n",
       "2      70.0\n",
       "3      68.0\n",
       "4     120.0\n",
       "5      49.0\n",
       "6      97.0\n",
       "7      74.0\n",
       "8      88.0\n",
       "9     170.0\n",
       "10     90.0\n",
       "11    130.0\n",
       "12     70.0\n",
       "13    140.0\n",
       "14    165.0\n",
       "15    115.0\n",
       "16     78.0\n",
       "17     68.0\n",
       "18     81.0\n",
       "19    180.0\n",
       "20    150.0\n",
       "21     95.0\n",
       "22     75.0\n",
       "23      NaN\n",
       "24     85.0\n",
       "25    125.0\n",
       "26    140.0\n",
       "27    190.0\n",
       "28     52.0\n",
       "29    190.0\n",
       "30    198.0\n",
       "31     70.0\n",
       "32     88.0\n",
       "33     87.0\n",
       "34    180.0\n",
       "35    100.0\n",
       "36     83.0\n",
       "37     90.0\n",
       "38    140.0\n",
       "39     75.0\n",
       "40     64.0\n",
       "41    110.0\n",
       "42    170.0\n",
       "43    110.0\n",
       "44    108.0\n",
       "45     72.0\n",
       "46      NaN\n",
       "47     67.0\n",
       "48     88.0\n",
       "49     53.0\n",
       "50    105.0\n",
       "51     80.0\n",
       "52    100.0\n",
       "53     68.0\n",
       "54    140.0\n",
       "55     88.0\n",
       "56     90.0\n",
       "57     88.0\n",
       "58     90.0\n",
       "Name: horsepower, dtype: float64"
      ]
     },
     "execution_count": 47,
     "metadata": {},
     "output_type": "execute_result"
    }
   ],
   "source": [
    "df.horsepower.head(59)"
   ]
  },
  {
   "cell_type": "code",
   "execution_count": 48,
   "metadata": {
    "id": "TPDdUJYU_8b6"
   },
   "outputs": [],
   "source": [
    "# df['horsepower'].fillna((df['horsepower'].mean()), inplace=True)\n",
    "df['horsepower'] = df['horsepower'].fillna(85)"
   ]
  },
  {
   "cell_type": "code",
   "execution_count": 49,
   "metadata": {
    "colab": {
     "base_uri": "https://localhost:8080/",
     "height": 901
    },
    "id": "eMTLWnzgA7jX",
    "outputId": "6d1d0d07-39b2-4b76-ae92-5035b513db15"
   },
   "outputs": [
    {
     "data": {
      "text/plain": [
       "0      63.0\n",
       "1     150.0\n",
       "2      70.0\n",
       "3      68.0\n",
       "4     120.0\n",
       "5      49.0\n",
       "6      97.0\n",
       "7      74.0\n",
       "8      88.0\n",
       "9     170.0\n",
       "10     90.0\n",
       "11    130.0\n",
       "12     70.0\n",
       "13    140.0\n",
       "14    165.0\n",
       "15    115.0\n",
       "16     78.0\n",
       "17     68.0\n",
       "18     81.0\n",
       "19    180.0\n",
       "20    150.0\n",
       "21     95.0\n",
       "22     75.0\n",
       "23     85.0\n",
       "24     85.0\n",
       "25    125.0\n",
       "26    140.0\n",
       "27    190.0\n",
       "28     52.0\n",
       "29    190.0\n",
       "30    198.0\n",
       "31     70.0\n",
       "32     88.0\n",
       "33     87.0\n",
       "34    180.0\n",
       "35    100.0\n",
       "36     83.0\n",
       "37     90.0\n",
       "38    140.0\n",
       "39     75.0\n",
       "40     64.0\n",
       "41    110.0\n",
       "42    170.0\n",
       "43    110.0\n",
       "44    108.0\n",
       "45     72.0\n",
       "46     85.0\n",
       "47     67.0\n",
       "48     88.0\n",
       "49     53.0\n",
       "Name: horsepower, dtype: float64"
      ]
     },
     "execution_count": 49,
     "metadata": {},
     "output_type": "execute_result"
    }
   ],
   "source": [
    "df.horsepower.head(50)"
   ]
  },
  {
   "cell_type": "code",
   "execution_count": 50,
   "metadata": {
    "id": "Ra1DYJL4iQVC"
   },
   "outputs": [],
   "source": [
    "# # Step 1: define an knn imputer using KNNImputer\n",
    "# # Hint: look up the documentation for KNNImputer\n",
    "# # COMPLETE\n",
    "# imputer = KNNImputer(n_neighbors=2)\n",
    "\n",
    "# # Step 2: impute the missing data\n",
    "# df = pd.DataFrame(imputer.fit_transform(df), columns=df.columns, index=df.index)"
   ]
  },
  {
   "cell_type": "code",
   "execution_count": 51,
   "metadata": {
    "colab": {
     "base_uri": "https://localhost:8080/",
     "height": 347
    },
    "id": "VMC4SKMrabTz",
    "outputId": "118c80ba-56e9-42db-e03c-dc91987d0553"
   },
   "outputs": [
    {
     "data": {
      "text/plain": [
       "['displacement',\n",
       " 'horsepower',\n",
       " 'weight',\n",
       " 'acceleration',\n",
       " 'fuel (L/100km)',\n",
       " 'model year_70',\n",
       " 'model year_71',\n",
       " 'model year_72',\n",
       " 'model year_73',\n",
       " 'model year_74',\n",
       " 'model year_75',\n",
       " 'model year_76',\n",
       " 'model year_77',\n",
       " 'model year_78',\n",
       " 'model year_79',\n",
       " 'model year_80',\n",
       " 'model year_81',\n",
       " 'model year_82',\n",
       " 'cylinders_4',\n",
       " 'cylinders_8']"
      ]
     },
     "execution_count": 51,
     "metadata": {},
     "output_type": "execute_result"
    }
   ],
   "source": [
    "list(df.columns)"
   ]
  },
  {
   "cell_type": "code",
   "execution_count": 52,
   "metadata": {
    "colab": {
     "base_uri": "https://localhost:8080/",
     "height": 225
    },
    "id": "iq0_K3zXQpKT",
    "outputId": "641160ba-c4b9-4cd2-ed76-d64d70b9d1aa"
   },
   "outputs": [
    {
     "data": {
      "text/plain": [
       "0      2123.0\n",
       "1      3760.0\n",
       "2      2150.0\n",
       "3      1971.0\n",
       "4      3819.0\n",
       "        ...  \n",
       "293    4383.0\n",
       "294    2335.0\n",
       "295    2288.0\n",
       "296    3610.0\n",
       "297    2045.0\n",
       "Name: weight, Length: 298, dtype: float64"
      ]
     },
     "execution_count": 52,
     "metadata": {},
     "output_type": "execute_result"
    }
   ],
   "source": [
    "df['weight'] = df['weight'].abs()\n",
    "df['weight'] "
   ]
  },
  {
   "cell_type": "code",
   "execution_count": 53,
   "metadata": {
    "colab": {
     "base_uri": "https://localhost:8080/",
     "height": 239
    },
    "id": "JPoJxoacE2M8",
    "outputId": "377480a6-7a02-4550-c273-24787bc3b24c"
   },
   "outputs": [
    {
     "data": {
      "text/html": [
       "<div>\n",
       "<style scoped>\n",
       "    .dataframe tbody tr th:only-of-type {\n",
       "        vertical-align: middle;\n",
       "    }\n",
       "\n",
       "    .dataframe tbody tr th {\n",
       "        vertical-align: top;\n",
       "    }\n",
       "\n",
       "    .dataframe thead th {\n",
       "        text-align: right;\n",
       "    }\n",
       "</style>\n",
       "<table border=\"1\" class=\"dataframe\">\n",
       "  <thead>\n",
       "    <tr style=\"text-align: right;\">\n",
       "      <th></th>\n",
       "      <th>displacement</th>\n",
       "      <th>horsepower</th>\n",
       "      <th>weight</th>\n",
       "      <th>acceleration</th>\n",
       "      <th>model year_70</th>\n",
       "      <th>model year_71</th>\n",
       "      <th>model year_72</th>\n",
       "      <th>model year_73</th>\n",
       "      <th>model year_74</th>\n",
       "      <th>model year_75</th>\n",
       "      <th>model year_76</th>\n",
       "      <th>model year_77</th>\n",
       "      <th>model year_78</th>\n",
       "      <th>model year_79</th>\n",
       "      <th>model year_80</th>\n",
       "      <th>model year_81</th>\n",
       "      <th>model year_82</th>\n",
       "      <th>cylinders_4</th>\n",
       "      <th>cylinders_8</th>\n",
       "    </tr>\n",
       "  </thead>\n",
       "  <tbody>\n",
       "    <tr>\n",
       "      <th>0</th>\n",
       "      <td>122.0</td>\n",
       "      <td>80.0</td>\n",
       "      <td>2450.0</td>\n",
       "      <td>15.5</td>\n",
       "      <td>0</td>\n",
       "      <td>0</td>\n",
       "      <td>0</td>\n",
       "      <td>0</td>\n",
       "      <td>1</td>\n",
       "      <td>0</td>\n",
       "      <td>0</td>\n",
       "      <td>0</td>\n",
       "      <td>0</td>\n",
       "      <td>0</td>\n",
       "      <td>0</td>\n",
       "      <td>0</td>\n",
       "      <td>0</td>\n",
       "      <td>1</td>\n",
       "      <td>0</td>\n",
       "    </tr>\n",
       "    <tr>\n",
       "      <th>1</th>\n",
       "      <td>257.0</td>\n",
       "      <td>95.0</td>\n",
       "      <td>3191.0</td>\n",
       "      <td>17.8</td>\n",
       "      <td>0</td>\n",
       "      <td>0</td>\n",
       "      <td>0</td>\n",
       "      <td>0</td>\n",
       "      <td>0</td>\n",
       "      <td>0</td>\n",
       "      <td>1</td>\n",
       "      <td>0</td>\n",
       "      <td>0</td>\n",
       "      <td>0</td>\n",
       "      <td>0</td>\n",
       "      <td>0</td>\n",
       "      <td>0</td>\n",
       "      <td>0</td>\n",
       "      <td>0</td>\n",
       "    </tr>\n",
       "    <tr>\n",
       "      <th>2</th>\n",
       "      <td>87.0</td>\n",
       "      <td>65.0</td>\n",
       "      <td>2108.0</td>\n",
       "      <td>18.9</td>\n",
       "      <td>0</td>\n",
       "      <td>0</td>\n",
       "      <td>0</td>\n",
       "      <td>0</td>\n",
       "      <td>0</td>\n",
       "      <td>0</td>\n",
       "      <td>0</td>\n",
       "      <td>0</td>\n",
       "      <td>0</td>\n",
       "      <td>0</td>\n",
       "      <td>1</td>\n",
       "      <td>0</td>\n",
       "      <td>0</td>\n",
       "      <td>1</td>\n",
       "      <td>0</td>\n",
       "    </tr>\n",
       "    <tr>\n",
       "      <th>3</th>\n",
       "      <td>399.0</td>\n",
       "      <td>167.0</td>\n",
       "      <td>4906.0</td>\n",
       "      <td>12.5</td>\n",
       "      <td>0</td>\n",
       "      <td>0</td>\n",
       "      <td>0</td>\n",
       "      <td>1</td>\n",
       "      <td>0</td>\n",
       "      <td>0</td>\n",
       "      <td>0</td>\n",
       "      <td>0</td>\n",
       "      <td>0</td>\n",
       "      <td>0</td>\n",
       "      <td>0</td>\n",
       "      <td>0</td>\n",
       "      <td>0</td>\n",
       "      <td>0</td>\n",
       "      <td>1</td>\n",
       "    </tr>\n",
       "    <tr>\n",
       "      <th>4</th>\n",
       "      <td>399.0</td>\n",
       "      <td>150.0</td>\n",
       "      <td>4462.0</td>\n",
       "      <td>13.0</td>\n",
       "      <td>0</td>\n",
       "      <td>0</td>\n",
       "      <td>0</td>\n",
       "      <td>1</td>\n",
       "      <td>0</td>\n",
       "      <td>0</td>\n",
       "      <td>0</td>\n",
       "      <td>0</td>\n",
       "      <td>0</td>\n",
       "      <td>0</td>\n",
       "      <td>0</td>\n",
       "      <td>0</td>\n",
       "      <td>0</td>\n",
       "      <td>0</td>\n",
       "      <td>1</td>\n",
       "    </tr>\n",
       "  </tbody>\n",
       "</table>\n",
       "</div>"
      ],
      "text/plain": [
       "   displacement  horsepower  weight  acceleration  model year_70  \\\n",
       "0         122.0        80.0  2450.0          15.5              0   \n",
       "1         257.0        95.0  3191.0          17.8              0   \n",
       "2          87.0        65.0  2108.0          18.9              0   \n",
       "3         399.0       167.0  4906.0          12.5              0   \n",
       "4         399.0       150.0  4462.0          13.0              0   \n",
       "\n",
       "   model year_71  model year_72  model year_73  model year_74  model year_75  \\\n",
       "0              0              0              0              1              0   \n",
       "1              0              0              0              0              0   \n",
       "2              0              0              0              0              0   \n",
       "3              0              0              1              0              0   \n",
       "4              0              0              1              0              0   \n",
       "\n",
       "   model year_76  model year_77  model year_78  model year_79  model year_80  \\\n",
       "0              0              0              0              0              0   \n",
       "1              1              0              0              0              0   \n",
       "2              0              0              0              0              1   \n",
       "3              0              0              0              0              0   \n",
       "4              0              0              0              0              0   \n",
       "\n",
       "   model year_81  model year_82  cylinders_4  cylinders_8  \n",
       "0              0              0            1            0  \n",
       "1              0              0            0            0  \n",
       "2              0              0            1            0  \n",
       "3              0              0            0            1  \n",
       "4              0              0            0            1  "
      ]
     },
     "execution_count": 53,
     "metadata": {},
     "output_type": "execute_result"
    }
   ],
   "source": [
    "test_data.head(5)"
   ]
  },
  {
   "cell_type": "code",
   "execution_count": 54,
   "metadata": {
    "id": "anOiawqF2ueG"
   },
   "outputs": [],
   "source": [
    "# # Step 1: define a MinMax scalar that will transform the data values into values in (0, 1)\n",
    "# # Hint: Look up the documentation for MinMaxScaler\n",
    "# # COMPLETE\n",
    "# scaler = MinMaxScaler()\n",
    "# # scalar = MinMaxScaler()\n",
    "\n",
    "# # Step 2: fit the MinMaxScaler using our data \n",
    "# # Hint: use .fit()\n",
    "# # COMPLETE\n",
    "# scaler.fit(df)\n",
    "# X_values = df.values\n",
    "# # Step 3: scale the values in our dataset, X_values \n",
    "# # Hint: use .transform()\n",
    "# # COMPLETE\n",
    "# X_values_scaled = scaler.transform(X_values)\n",
    "# df = pd.DataFrame(X_values_scaled, columns=df.columns)"
   ]
  },
  {
   "cell_type": "code",
   "execution_count": 55,
   "metadata": {
    "id": "Sy-GViHFnUhA"
   },
   "outputs": [],
   "source": [
    "# # Step 1: define a MinMax scalar that will transform the data values into values in (0, 1)\n",
    "# # Hint: Look up the documentation for MinMaxScaler\n",
    "# # COMPLETE\n",
    "# scaler = MinMaxScaler()\n",
    "# # scalar = MinMaxScaler()\n",
    "\n",
    "# # Step 2: fit the MinMaxScaler using our data \n",
    "# # Hint: use .fit()\n",
    "# # COMPLETE\n",
    "# scaler.fit(test_data)\n",
    "# X_values1 = test_data.values\n",
    "# # Step 3: scale the values in our dataset, X_values \n",
    "# # Hint: use .transform()\n",
    "# # COMPLETE\n",
    "# X_values_scaled1 = scaler.transform(X_values1)\n",
    "# test_data = pd.DataFrame(X_values_scaled1, columns=test_data.columns)"
   ]
  },
  {
   "cell_type": "code",
   "execution_count": 56,
   "metadata": {
    "colab": {
     "base_uri": "https://localhost:8080/",
     "height": 453
    },
    "id": "AylJZuR2UwGj",
    "outputId": "f15ea5e7-ae40-42a9-fff9-009c5aca9f9d"
   },
   "outputs": [
    {
     "data": {
      "text/html": [
       "<div>\n",
       "<style scoped>\n",
       "    .dataframe tbody tr th:only-of-type {\n",
       "        vertical-align: middle;\n",
       "    }\n",
       "\n",
       "    .dataframe tbody tr th {\n",
       "        vertical-align: top;\n",
       "    }\n",
       "\n",
       "    .dataframe thead th {\n",
       "        text-align: right;\n",
       "    }\n",
       "</style>\n",
       "<table border=\"1\" class=\"dataframe\">\n",
       "  <thead>\n",
       "    <tr style=\"text-align: right;\">\n",
       "      <th></th>\n",
       "      <th>displacement</th>\n",
       "      <th>horsepower</th>\n",
       "      <th>weight</th>\n",
       "      <th>acceleration</th>\n",
       "      <th>model year_70</th>\n",
       "      <th>model year_71</th>\n",
       "      <th>model year_72</th>\n",
       "      <th>model year_73</th>\n",
       "      <th>model year_74</th>\n",
       "      <th>model year_75</th>\n",
       "      <th>model year_76</th>\n",
       "      <th>model year_77</th>\n",
       "      <th>model year_78</th>\n",
       "      <th>model year_79</th>\n",
       "      <th>model year_80</th>\n",
       "      <th>model year_81</th>\n",
       "      <th>model year_82</th>\n",
       "      <th>cylinders_4</th>\n",
       "      <th>cylinders_8</th>\n",
       "    </tr>\n",
       "  </thead>\n",
       "  <tbody>\n",
       "    <tr>\n",
       "      <th>0</th>\n",
       "      <td>106.0</td>\n",
       "      <td>63.0</td>\n",
       "      <td>2123.0</td>\n",
       "      <td>14.7</td>\n",
       "      <td>0</td>\n",
       "      <td>0</td>\n",
       "      <td>0</td>\n",
       "      <td>0</td>\n",
       "      <td>0</td>\n",
       "      <td>0</td>\n",
       "      <td>0</td>\n",
       "      <td>0</td>\n",
       "      <td>0</td>\n",
       "      <td>0</td>\n",
       "      <td>0</td>\n",
       "      <td>0</td>\n",
       "      <td>1</td>\n",
       "      <td>1</td>\n",
       "      <td>0</td>\n",
       "    </tr>\n",
       "    <tr>\n",
       "      <th>1</th>\n",
       "      <td>400.0</td>\n",
       "      <td>150.0</td>\n",
       "      <td>3760.0</td>\n",
       "      <td>8.5</td>\n",
       "      <td>1</td>\n",
       "      <td>0</td>\n",
       "      <td>0</td>\n",
       "      <td>0</td>\n",
       "      <td>0</td>\n",
       "      <td>0</td>\n",
       "      <td>0</td>\n",
       "      <td>0</td>\n",
       "      <td>0</td>\n",
       "      <td>0</td>\n",
       "      <td>0</td>\n",
       "      <td>0</td>\n",
       "      <td>0</td>\n",
       "      <td>0</td>\n",
       "      <td>1</td>\n",
       "    </tr>\n",
       "    <tr>\n",
       "      <th>2</th>\n",
       "      <td>104.0</td>\n",
       "      <td>70.0</td>\n",
       "      <td>2150.0</td>\n",
       "      <td>13.9</td>\n",
       "      <td>0</td>\n",
       "      <td>0</td>\n",
       "      <td>0</td>\n",
       "      <td>0</td>\n",
       "      <td>0</td>\n",
       "      <td>0</td>\n",
       "      <td>0</td>\n",
       "      <td>0</td>\n",
       "      <td>0</td>\n",
       "      <td>1</td>\n",
       "      <td>0</td>\n",
       "      <td>0</td>\n",
       "      <td>0</td>\n",
       "      <td>1</td>\n",
       "      <td>0</td>\n",
       "    </tr>\n",
       "    <tr>\n",
       "      <th>3</th>\n",
       "      <td>92.0</td>\n",
       "      <td>68.0</td>\n",
       "      <td>1971.0</td>\n",
       "      <td>17.6</td>\n",
       "      <td>0</td>\n",
       "      <td>0</td>\n",
       "      <td>0</td>\n",
       "      <td>0</td>\n",
       "      <td>0</td>\n",
       "      <td>0</td>\n",
       "      <td>0</td>\n",
       "      <td>0</td>\n",
       "      <td>0</td>\n",
       "      <td>0</td>\n",
       "      <td>0</td>\n",
       "      <td>0</td>\n",
       "      <td>1</td>\n",
       "      <td>1</td>\n",
       "      <td>0</td>\n",
       "    </tr>\n",
       "    <tr>\n",
       "      <th>4</th>\n",
       "      <td>167.0</td>\n",
       "      <td>120.0</td>\n",
       "      <td>3819.0</td>\n",
       "      <td>16.7</td>\n",
       "      <td>0</td>\n",
       "      <td>0</td>\n",
       "      <td>0</td>\n",
       "      <td>0</td>\n",
       "      <td>0</td>\n",
       "      <td>0</td>\n",
       "      <td>1</td>\n",
       "      <td>0</td>\n",
       "      <td>0</td>\n",
       "      <td>0</td>\n",
       "      <td>0</td>\n",
       "      <td>0</td>\n",
       "      <td>0</td>\n",
       "      <td>0</td>\n",
       "      <td>0</td>\n",
       "    </tr>\n",
       "    <tr>\n",
       "      <th>...</th>\n",
       "      <td>...</td>\n",
       "      <td>...</td>\n",
       "      <td>...</td>\n",
       "      <td>...</td>\n",
       "      <td>...</td>\n",
       "      <td>...</td>\n",
       "      <td>...</td>\n",
       "      <td>...</td>\n",
       "      <td>...</td>\n",
       "      <td>...</td>\n",
       "      <td>...</td>\n",
       "      <td>...</td>\n",
       "      <td>...</td>\n",
       "      <td>...</td>\n",
       "      <td>...</td>\n",
       "      <td>...</td>\n",
       "      <td>...</td>\n",
       "      <td>...</td>\n",
       "      <td>...</td>\n",
       "    </tr>\n",
       "    <tr>\n",
       "      <th>293</th>\n",
       "      <td>399.0</td>\n",
       "      <td>175.0</td>\n",
       "      <td>4383.0</td>\n",
       "      <td>12.0</td>\n",
       "      <td>0</td>\n",
       "      <td>0</td>\n",
       "      <td>1</td>\n",
       "      <td>0</td>\n",
       "      <td>0</td>\n",
       "      <td>0</td>\n",
       "      <td>0</td>\n",
       "      <td>0</td>\n",
       "      <td>0</td>\n",
       "      <td>0</td>\n",
       "      <td>0</td>\n",
       "      <td>0</td>\n",
       "      <td>0</td>\n",
       "      <td>0</td>\n",
       "      <td>1</td>\n",
       "    </tr>\n",
       "    <tr>\n",
       "      <th>294</th>\n",
       "      <td>89.0</td>\n",
       "      <td>48.0</td>\n",
       "      <td>2335.0</td>\n",
       "      <td>24.7</td>\n",
       "      <td>0</td>\n",
       "      <td>0</td>\n",
       "      <td>0</td>\n",
       "      <td>0</td>\n",
       "      <td>0</td>\n",
       "      <td>0</td>\n",
       "      <td>0</td>\n",
       "      <td>0</td>\n",
       "      <td>0</td>\n",
       "      <td>0</td>\n",
       "      <td>1</td>\n",
       "      <td>0</td>\n",
       "      <td>0</td>\n",
       "      <td>1</td>\n",
       "      <td>0</td>\n",
       "    </tr>\n",
       "    <tr>\n",
       "      <th>295</th>\n",
       "      <td>106.0</td>\n",
       "      <td>72.0</td>\n",
       "      <td>2288.0</td>\n",
       "      <td>17.0</td>\n",
       "      <td>0</td>\n",
       "      <td>0</td>\n",
       "      <td>0</td>\n",
       "      <td>0</td>\n",
       "      <td>0</td>\n",
       "      <td>0</td>\n",
       "      <td>0</td>\n",
       "      <td>0</td>\n",
       "      <td>0</td>\n",
       "      <td>0</td>\n",
       "      <td>1</td>\n",
       "      <td>0</td>\n",
       "      <td>0</td>\n",
       "      <td>1</td>\n",
       "      <td>0</td>\n",
       "    </tr>\n",
       "    <tr>\n",
       "      <th>296</th>\n",
       "      <td>341.0</td>\n",
       "      <td>160.0</td>\n",
       "      <td>3610.0</td>\n",
       "      <td>9.0</td>\n",
       "      <td>1</td>\n",
       "      <td>0</td>\n",
       "      <td>0</td>\n",
       "      <td>0</td>\n",
       "      <td>0</td>\n",
       "      <td>0</td>\n",
       "      <td>0</td>\n",
       "      <td>0</td>\n",
       "      <td>0</td>\n",
       "      <td>0</td>\n",
       "      <td>0</td>\n",
       "      <td>0</td>\n",
       "      <td>0</td>\n",
       "      <td>0</td>\n",
       "      <td>1</td>\n",
       "    </tr>\n",
       "    <tr>\n",
       "      <th>297</th>\n",
       "      <td>98.0</td>\n",
       "      <td>65.0</td>\n",
       "      <td>2045.0</td>\n",
       "      <td>17.2</td>\n",
       "      <td>0</td>\n",
       "      <td>0</td>\n",
       "      <td>0</td>\n",
       "      <td>0</td>\n",
       "      <td>0</td>\n",
       "      <td>0</td>\n",
       "      <td>0</td>\n",
       "      <td>0</td>\n",
       "      <td>0</td>\n",
       "      <td>0</td>\n",
       "      <td>0</td>\n",
       "      <td>1</td>\n",
       "      <td>0</td>\n",
       "      <td>1</td>\n",
       "      <td>0</td>\n",
       "    </tr>\n",
       "  </tbody>\n",
       "</table>\n",
       "<p>298 rows × 19 columns</p>\n",
       "</div>"
      ],
      "text/plain": [
       "     displacement  horsepower  weight  acceleration  model year_70  \\\n",
       "0           106.0        63.0  2123.0          14.7              0   \n",
       "1           400.0       150.0  3760.0           8.5              1   \n",
       "2           104.0        70.0  2150.0          13.9              0   \n",
       "3            92.0        68.0  1971.0          17.6              0   \n",
       "4           167.0       120.0  3819.0          16.7              0   \n",
       "..            ...         ...     ...           ...            ...   \n",
       "293         399.0       175.0  4383.0          12.0              0   \n",
       "294          89.0        48.0  2335.0          24.7              0   \n",
       "295         106.0        72.0  2288.0          17.0              0   \n",
       "296         341.0       160.0  3610.0           9.0              1   \n",
       "297          98.0        65.0  2045.0          17.2              0   \n",
       "\n",
       "     model year_71  model year_72  model year_73  model year_74  \\\n",
       "0                0              0              0              0   \n",
       "1                0              0              0              0   \n",
       "2                0              0              0              0   \n",
       "3                0              0              0              0   \n",
       "4                0              0              0              0   \n",
       "..             ...            ...            ...            ...   \n",
       "293              0              1              0              0   \n",
       "294              0              0              0              0   \n",
       "295              0              0              0              0   \n",
       "296              0              0              0              0   \n",
       "297              0              0              0              0   \n",
       "\n",
       "     model year_75  model year_76  model year_77  model year_78  \\\n",
       "0                0              0              0              0   \n",
       "1                0              0              0              0   \n",
       "2                0              0              0              0   \n",
       "3                0              0              0              0   \n",
       "4                0              1              0              0   \n",
       "..             ...            ...            ...            ...   \n",
       "293              0              0              0              0   \n",
       "294              0              0              0              0   \n",
       "295              0              0              0              0   \n",
       "296              0              0              0              0   \n",
       "297              0              0              0              0   \n",
       "\n",
       "     model year_79  model year_80  model year_81  model year_82  cylinders_4  \\\n",
       "0                0              0              0              1            1   \n",
       "1                0              0              0              0            0   \n",
       "2                1              0              0              0            1   \n",
       "3                0              0              0              1            1   \n",
       "4                0              0              0              0            0   \n",
       "..             ...            ...            ...            ...          ...   \n",
       "293              0              0              0              0            0   \n",
       "294              0              1              0              0            1   \n",
       "295              0              1              0              0            1   \n",
       "296              0              0              0              0            0   \n",
       "297              0              0              1              0            1   \n",
       "\n",
       "     cylinders_8  \n",
       "0              0  \n",
       "1              1  \n",
       "2              0  \n",
       "3              0  \n",
       "4              0  \n",
       "..           ...  \n",
       "293            1  \n",
       "294            0  \n",
       "295            0  \n",
       "296            1  \n",
       "297            0  \n",
       "\n",
       "[298 rows x 19 columns]"
      ]
     },
     "execution_count": 56,
     "metadata": {},
     "output_type": "execute_result"
    }
   ],
   "source": [
    "#Split the train data into target and features\n",
    "# create features\n",
    "x_train = df.loc[:, df.columns != 'fuel (L/100km)']\n",
    "x_train"
   ]
  },
  {
   "cell_type": "code",
   "execution_count": 57,
   "metadata": {
    "id": "_K-9kaMTjbQS"
   },
   "outputs": [],
   "source": [
    "# x_train = x_train.drop(['model year'], axis=1)\n",
    "# x_train"
   ]
  },
  {
   "cell_type": "code",
   "execution_count": 58,
   "metadata": {
    "id": "NZ_ojmYzj_NW"
   },
   "outputs": [],
   "source": [
    "# test_data = test_data.drop(['model year'], axis=1)\n"
   ]
  },
  {
   "cell_type": "code",
   "execution_count": 59,
   "metadata": {
    "colab": {
     "base_uri": "https://localhost:8080/",
     "height": 415
    },
    "id": "zJSCFe1bxpJe",
    "outputId": "e97ed9f4-a6bf-47e2-c2d7-2d5530f372a3"
   },
   "outputs": [
    {
     "data": {
      "text/html": [
       "<div>\n",
       "<style scoped>\n",
       "    .dataframe tbody tr th:only-of-type {\n",
       "        vertical-align: middle;\n",
       "    }\n",
       "\n",
       "    .dataframe tbody tr th {\n",
       "        vertical-align: top;\n",
       "    }\n",
       "\n",
       "    .dataframe thead th {\n",
       "        text-align: right;\n",
       "    }\n",
       "</style>\n",
       "<table border=\"1\" class=\"dataframe\">\n",
       "  <thead>\n",
       "    <tr style=\"text-align: right;\">\n",
       "      <th></th>\n",
       "      <th>fuel (L/100km)</th>\n",
       "    </tr>\n",
       "  </thead>\n",
       "  <tbody>\n",
       "    <tr>\n",
       "      <th>0</th>\n",
       "      <td>6.189737</td>\n",
       "    </tr>\n",
       "    <tr>\n",
       "      <th>1</th>\n",
       "      <td>15.680667</td>\n",
       "    </tr>\n",
       "    <tr>\n",
       "      <th>2</th>\n",
       "      <td>6.817681</td>\n",
       "    </tr>\n",
       "    <tr>\n",
       "      <th>3</th>\n",
       "      <td>7.587419</td>\n",
       "    </tr>\n",
       "    <tr>\n",
       "      <th>4</th>\n",
       "      <td>14.255152</td>\n",
       "    </tr>\n",
       "    <tr>\n",
       "      <th>...</th>\n",
       "      <td>...</td>\n",
       "    </tr>\n",
       "    <tr>\n",
       "      <th>293</th>\n",
       "      <td>16.800714</td>\n",
       "    </tr>\n",
       "    <tr>\n",
       "      <th>294</th>\n",
       "      <td>5.419585</td>\n",
       "    </tr>\n",
       "    <tr>\n",
       "      <th>295</th>\n",
       "      <td>7.259568</td>\n",
       "    </tr>\n",
       "    <tr>\n",
       "      <th>296</th>\n",
       "      <td>16.800714</td>\n",
       "    </tr>\n",
       "    <tr>\n",
       "      <th>297</th>\n",
       "      <td>6.837500</td>\n",
       "    </tr>\n",
       "  </tbody>\n",
       "</table>\n",
       "<p>298 rows × 1 columns</p>\n",
       "</div>"
      ],
      "text/plain": [
       "     fuel (L/100km)\n",
       "0          6.189737\n",
       "1         15.680667\n",
       "2          6.817681\n",
       "3          7.587419\n",
       "4         14.255152\n",
       "..              ...\n",
       "293       16.800714\n",
       "294        5.419585\n",
       "295        7.259568\n",
       "296       16.800714\n",
       "297        6.837500\n",
       "\n",
       "[298 rows x 1 columns]"
      ]
     },
     "execution_count": 59,
     "metadata": {},
     "output_type": "execute_result"
    }
   ],
   "source": [
    "target = ['fuel (L/100km)']\n",
    "y_train = df[target]    # target variable\n",
    "y_train"
   ]
  },
  {
   "cell_type": "code",
   "execution_count": 60,
   "metadata": {
    "id": "e3xNX4jn7HTf"
   },
   "outputs": [],
   "source": [
    "#x_train, x_validation , y_train, y_validation =  train_test_split(x, y, test_size=0.3, random_state=42)"
   ]
  },
  {
   "cell_type": "markdown",
   "metadata": {
    "id": "WDifU46dYBEB"
   },
   "source": [
    "# Now we are done with downloading data! \n",
    "* Try building a model inside this notebook by create additional cells below with code to specify and fit the model\n",
    "* If you are fitting large neural nets, make sure this google colab notebook is running on GPUs\n",
    "* Check Edit --> Notebook settings --> Hardware accelerator: GPU"
   ]
  },
  {
   "cell_type": "code",
   "execution_count": 61,
   "metadata": {
    "id": "ZcDDw0AbWTKX"
   },
   "outputs": [],
   "source": [
    "# # Start building a model here\n",
    "\n",
    "# # Step 1: Create a base neural network to which we will add layers\n",
    "# neural_network = Sequential()\n",
    "\n",
    "# # Step 2: Add layers to the neural network\n",
    "# hidden_nodes = 20 # the number of hidden nodes in each layer\n",
    "# neural_network.add(Dense(hidden_nodes, input_dim=x_train.shape[-1], activation='tanh')) # Input layer\n",
    "# neural_network.add(Dense(hidden_nodes, activation='tanh'))                              # Hidden layer\n",
    "# neural_network.add(Dense(y_train.shape[-1], activation='linear'))                           # Output layer\n",
    "\n",
    "# # Step 3: Create an optimizer, which will be used to train our neural network\n",
    "# learning_rate = 0.005 # controls the step-size the optimizer takes at each iteration of the training\n",
    "# optimizer = SGD(lr=learning_rate)\n",
    "# neural_network.compile(loss='mse', optimizer=optimizer)\n",
    "\n",
    "# # Step 4: Trainn the neural network\n",
    "# batch_size = 400  # number of randomly-selected training points for which the optimizer will step\n",
    "# epochs = 500 # number of training iterations\n",
    "# history = neural_network.fit(x_train, y_train, batch_size=batch_size, shuffle=True, epochs=epochs, verbose=0)"
   ]
  },
  {
   "cell_type": "code",
   "execution_count": 62,
   "metadata": {
    "id": "83dhvRioZEWj"
   },
   "outputs": [],
   "source": [
    "# # Step 7: Predict label on training set\n",
    "# y_train_pred = neural_network.predict(x_train)\n",
    "\n",
    "# # Step 8: Compute MSE on training set\n",
    "# print('RMSE on Training Data:', sqrt(mean_squared_error(y_train, y_train_pred)))\n",
    "\n",
    "# # Step 9: Predict label on test set\n",
    "# #y_test_pred = neural_network.predict(test_data)\n",
    "\n",
    "# # Step 10: Compute MSE on test set \n",
    "# #print('MSE on Testing Data: ', mean_squared_error(y_test, y_test_pred))"
   ]
  },
  {
   "cell_type": "code",
   "execution_count": 63,
   "metadata": {
    "id": "f5jlD1EjZFX8"
   },
   "outputs": [],
   "source": [
    "# # Step 1: Create a base neural network and regularizes\n",
    "# neural_network = Sequential()\n",
    "# reg = l2(0.00000000001) # change the strength of the regularizer\n",
    "\n",
    "# # Step 2: Add layers to the neural network\n",
    "# num_hidden_nodes = 10  # the number of hidden nodes in each layer\n",
    "# neural_network.add(Dense(num_hidden_nodes, input_dim=x_train.shape[-1], activation='tanh', kernel_regularizer=reg, bias_regularizer=reg))\n",
    "# neural_network.add(Dense(num_hidden_nodes, activation='tanh', kernel_regularizer=reg, bias_regularizer=reg))\n",
    "# neural_network.add(Dense(y_train.shape[-1], activation='linear', kernel_regularizer=reg, bias_regularizer=reg)) \n",
    "\n",
    "# # Step 3: Create an optimizer, which will be used to train our neural network\n",
    "# learning_rate = 0.001  # controls the step-size the optimizer takes at each iteration of the training\n",
    "# optimizer = SGD(lr=learning_rate)\n",
    "# neural_network.compile(loss='mse', optimizer=optimizer)\n",
    "\n",
    "# # Step 4: Train the neural network\n",
    "# batch_sz = 500    # number of randomly-selected training points for which the optimizer will step\n",
    "# num_epochs = 10000  # number of training iterations\n",
    "# history = neural_network.fit(x_train, y_train, batch_size=batch_sz, shuffle=True, epochs=num_epochs, verbose=0)"
   ]
  },
  {
   "cell_type": "code",
   "execution_count": null,
   "metadata": {
    "id": "MeRq8HIv-Rez"
   },
   "outputs": [],
   "source": [
    "from sklearn import linear_model\n",
    "import ast"
   ]
  },
  {
   "cell_type": "code",
   "execution_count": 64,
   "metadata": {
    "id": "Lm_og_YkFTYR"
   },
   "outputs": [],
   "source": [
    "import ast\n",
    "def process(results):\n",
    "    \"\"\"Process results into a dataframe with one column per hyperparameter\"\"\"\n",
    "    \n",
    "    results = results.copy()\n",
    "    results['hyperparameters'] = results['hyperparameters'].map(ast.literal_eval)\n",
    "    \n",
    "    # Sort with best values on top\n",
    "    results = results.sort_values('score', ascending = False).reset_index(drop = True)\n",
    "    \n",
    "     # Create dataframe of hyperparameters\n",
    "    hyp_df = pd.DataFrame(columns = list(results.loc[0, 'hyperparameters'].keys()))\n",
    "\n",
    "    # Iterate through each set of hyperparameters that were evaluated\n",
    "    for i, hyp in enumerate(results['hyperparameters']):\n",
    "        hyp_df = hyp_df.append(pd.DataFrame(hyp, index = [0]), \n",
    "                               ignore_index = True, sort= True)\n",
    "        \n",
    "    # Put the iteration and score in the hyperparameter dataframe\n",
    "    hyp_df['iteration'] = results['iteration']\n",
    "    hyp_df['score'] = results['score']\n",
    "    \n",
    "    return hyp_df"
   ]
  },
  {
   "cell_type": "code",
   "execution_count": 65,
   "metadata": {
    "id": "KEsvBOHTFrVz"
   },
   "outputs": [],
   "source": [
    "import random"
   ]
  },
  {
   "cell_type": "code",
   "execution_count": 66,
   "metadata": {
    "id": "9mVgpXj4E8vs"
   },
   "outputs": [],
   "source": [
    "import lightgbm as lgb"
   ]
  },
  {
   "cell_type": "code",
   "execution_count": 67,
   "metadata": {
    "id": "G-FoHznzGnNb"
   },
   "outputs": [],
   "source": [
    "from lightgbm import LGBMRegressor"
   ]
  },
  {
   "cell_type": "code",
   "execution_count": 68,
   "metadata": {
    "colab": {
     "base_uri": "https://localhost:8080/",
     "height": 121
    },
    "id": "dyTaiEglEMv-",
    "outputId": "8cfac8f9-5910-413e-c22a-077275123080"
   },
   "outputs": [
    {
     "data": {
      "text/plain": [
       "LGBMRegressor()"
      ]
     },
     "execution_count": 68,
     "metadata": {},
     "output_type": "execute_result"
    }
   ],
   "source": [
    "\n",
    "bmodel = lgb.LGBMRegressor()\n",
    "bmodel.fit(x_train, y_train)"
   ]
  },
  {
   "cell_type": "code",
   "execution_count": 69,
   "metadata": {
    "colab": {
     "base_uri": "https://localhost:8080/",
     "height": 35
    },
    "id": "Lj6OL-skeL88",
    "outputId": "441d1e38-e518-409f-c831-c8eccf03de1c"
   },
   "outputs": [
    {
     "name": "stdout",
     "output_type": "stream",
     "text": [
      "MSE on Training Data: 0.8943704087330584\n"
     ]
    }
   ],
   "source": [
    "from math import sqrt\n",
    "y_train_pred = bmodel.predict(x_train)\n",
    "print('MSE on Training Data:', sqrt(mean_squared_error(y_train, y_train_pred)))"
   ]
  },
  {
   "cell_type": "code",
   "execution_count": 70,
   "metadata": {
    "id": "cB8ztLRCrGXs"
   },
   "outputs": [],
   "source": [
    "# import xgboost"
   ]
  },
  {
   "cell_type": "code",
   "execution_count": 71,
   "metadata": {
    "id": "J75R3hoPqoAA"
   },
   "outputs": [],
   "source": [
    "# best_xgb_model = xgboost.XGBRegressor()\n",
    "# best_xgb_model.fit(x_train, y_train)"
   ]
  },
  {
   "cell_type": "code",
   "execution_count": 72,
   "metadata": {
    "id": "3-RrovCr-VCe"
   },
   "outputs": [],
   "source": [
    "# from sklearn.linear_model import BayesianRidge, LinearRegression\n",
    "# reg = linear_model.BayesianRidge(compute_score=True)\n",
    "# reg.fit(x_train, y_train)\n",
    "# BayesianRidge()"
   ]
  },
  {
   "cell_type": "code",
   "execution_count": 73,
   "metadata": {
    "id": "HSR9YDi-IcF1"
   },
   "outputs": [],
   "source": [
    "# from math import sqrt"
   ]
  },
  {
   "cell_type": "code",
   "execution_count": 74,
   "metadata": {
    "id": "4jFze-mv5EzW"
   },
   "outputs": [],
   "source": [
    "# y_train_pred = best_xgb_model.predict(x_train)\n",
    "# print('MSE on Training Data:', sqrt(mean_squared_error(y_train, y_train_pred)))\n",
    "\n"
   ]
  },
  {
   "cell_type": "code",
   "execution_count": 75,
   "metadata": {
    "id": "2_CX9OUNH7O9"
   },
   "outputs": [],
   "source": [
    "# # from sklearn.ensemble import RandomForestClassifier as RandomForest\n",
    "# from math import sqrt"
   ]
  },
  {
   "cell_type": "code",
   "execution_count": 76,
   "metadata": {
    "id": "siSGLx3QiovG"
   },
   "outputs": [],
   "source": [
    "y_train=y_train.astype('int')"
   ]
  },
  {
   "cell_type": "code",
   "execution_count": null,
   "metadata": {
    "id": "iZgXLnrrH9gI"
   },
   "outputs": [],
   "source": [
    "\n"
   ]
  },
  {
   "cell_type": "code",
   "execution_count": 77,
   "metadata": {
    "id": "wlcs5toFJsF_"
   },
   "outputs": [],
   "source": [
    "# # Step 1: instantiate a DecisionTreeClassifier model with maximum depth of your choice\n",
    "# # Hint: you may want to look at this for reference\n",
    "# # http://scikit-learn.org/stable/modules/generated/sklearn.ensemble.RandomForestClassifier.html\n",
    "# # COMPLETE\n",
    "# rdf = RandomForest(max_depth=50, random_state=0)\n",
    "# # Step 2: fit the random forest to our data\n",
    "# # COMPLETE\n",
    "# rdf.fit(x_train,y_train)\n",
    "# # C. Predict the labels of the training data\n",
    "# y_pred1= rdf.predict(x_train)\n",
    "# print('RMSE on Training Data:', sqrt(mean_squared_error(y_train, y_pred1)))"
   ]
  },
  {
   "cell_type": "code",
   "execution_count": 78,
   "metadata": {
    "id": "WPeNM4f-j6tV"
   },
   "outputs": [],
   "source": [
    "# # Step 1: Define the polynomial features\n",
    "# degree = 10\n",
    "# features = PolynomialFeatures(degree)\n",
    "# x_train_poly = features.fit_transform(x_train)\n",
    "# test_data_poly = features.fit_transform(test_data)\n",
    "\n",
    "# # Step 2: Define the regression model\n",
    "# linear_regression = LinearRegression(fit_intercept=False)\n",
    "\n",
    "# # Step 3: Transform the training x's using the polynomial features, and then fit the regression model\n",
    "# linear_regression.fit(x_train_poly, y_train)\n",
    "\n",
    "# # Step 5: Predict on training data\n",
    "# y_train_pred = linear_regression.predict(x_train_poly)\n",
    "# # Stet 6: Compute train MSE\n",
    "# print('RMSE on Training Data:', sqrt(mean_squared_error(y_train, y_train_pred)))\n",
    "\n",
    "# # Step 7: Predict on test data\n",
    "# #y_test_pred = linear_regression.predict(x_test_poly)\n",
    "# # Stet 8: Compute test MSE\n",
    "# #print('MSE on Testing Data: ', mean_squared_error(y_test, y_test_pred))"
   ]
  },
  {
   "cell_type": "code",
   "execution_count": 79,
   "metadata": {
    "id": "yCssAQsdGoqN"
   },
   "outputs": [],
   "source": [
    "# # Step 1: Define the polynomial features\n",
    "# degree = 10\n",
    "# features = PolynomialFeatures(degree)\n",
    "\n",
    "# # Step 2: Transform training and test input with PolynomialFeatures\n",
    "# x_train_poly = features.fit_transform(x_train)\n",
    "# x_test_poly = features.fit_transform(test_data)\n",
    "\n",
    "# # Step 3: Instantiate a Ridge regression model\n",
    "# # Hint: you may want to look at this for reference\n",
    "# # https://scikit-learn.org/stable/modules/generated/sklearn.linear_model.Ridge.html\n",
    "# # COMPLETE\n",
    "# ridge_regression = Ridge(alpha=100000000000000000000000000000)\n",
    "\n",
    "# # Step 4: Fit the regression model\n",
    "# # COMPLETE\n",
    "# ridge_regression.fit(x_train_poly, y_train)\n",
    "\n",
    "# # Step 5: Compute the train MSE\n",
    "# # COMPLETE\n",
    "# y_train_rmse = sqrt(mean_squared_error(y_train, ridge_regression.predict(x_train_poly)))\n",
    "# print('RMSE on Training Data:', y_train_rmse)\n",
    "\n",
    "# # Step 6: Compute the test MSE\n",
    "# # COMPLETE\n",
    "# # y_test_mse = mean_squared_error(y_test, ridge_regression.predict(x_test_poly))\n",
    "# # print('MSE on Testing Data:', y_test_mse)"
   ]
  },
  {
   "cell_type": "code",
   "execution_count": 80,
   "metadata": {
    "id": "x40tTHR-nXpG"
   },
   "outputs": [],
   "source": [
    "# from sklearn.ensemble import RandomForestRegressor\n",
    "# regr = RandomForestRegressor()\n",
    "# regr.fit(x_train, y_train)"
   ]
  },
  {
   "cell_type": "code",
   "execution_count": 81,
   "metadata": {
    "id": "krX843OuzX5s"
   },
   "outputs": [],
   "source": [
    "# from sklearn.neighbors import KNeighborsClassifier\n",
    "# classifier = KNeighborsClassifier(n_neighbors=10)\n",
    "# classifier.fit(x_train, y_train)\n",
    "# y_train_pred = classifier.predict(x_train)\n",
    "# print('RMSE on Training Data:', sqrt(mean_squared_error(y_train, y_train_pred)))"
   ]
  },
  {
   "cell_type": "code",
   "execution_count": 82,
   "metadata": {
    "id": "aL3MiLd6ZRqw"
   },
   "outputs": [],
   "source": [
    "# # Step 1: \n",
    "# # A. Instantiate an sklearn DecisionTreeRegressor model with maximum depth = 2\n",
    "# regr1_model = DecisionTreeRegressor(max_depth=200)\n",
    "# #    Hint: read the documentation https://scikit-learn.org/stable/modules/generated/sklearn.tree.DecisionTreeRegressor.html\n",
    "# # B. Fit the model to the training data\n",
    "# regr1_model.fit(x_train, y_train)\n",
    "# # C. Predict the labels of the training data\n",
    "# y_pred_1 = regr1_model.predict(x_train)\n",
    "# print('RMSE on Training Data:', sqrt(mean_squared_error(y_train, y_pred_1)))"
   ]
  },
  {
   "cell_type": "code",
   "execution_count": null,
   "metadata": {
    "id": "eaLFT3P4wRZq"
   },
   "outputs": [],
   "source": []
  },
  {
   "cell_type": "code",
   "execution_count": 83,
   "metadata": {
    "colab": {
     "base_uri": "https://localhost:8080/",
     "height": 451
    },
    "id": "tyqoW_RLoMLM",
    "outputId": "5eff5995-676a-4bf8-eb38-808ae063579c"
   },
   "outputs": [
    {
     "name": "stdout",
     "output_type": "stream",
     "text": [
      "<class 'pandas.core.frame.DataFrame'>\n",
      "RangeIndex: 100 entries, 0 to 99\n",
      "Data columns (total 19 columns):\n",
      " #   Column         Non-Null Count  Dtype  \n",
      "---  ------         --------------  -----  \n",
      " 0   displacement   100 non-null    float64\n",
      " 1   horsepower     100 non-null    float64\n",
      " 2   weight         100 non-null    float64\n",
      " 3   acceleration   100 non-null    float64\n",
      " 4   model year_70  100 non-null    uint8  \n",
      " 5   model year_71  100 non-null    uint8  \n",
      " 6   model year_72  100 non-null    uint8  \n",
      " 7   model year_73  100 non-null    uint8  \n",
      " 8   model year_74  100 non-null    uint8  \n",
      " 9   model year_75  100 non-null    uint8  \n",
      " 10  model year_76  100 non-null    uint8  \n",
      " 11  model year_77  100 non-null    uint8  \n",
      " 12  model year_78  100 non-null    uint8  \n",
      " 13  model year_79  100 non-null    uint8  \n",
      " 14  model year_80  100 non-null    uint8  \n",
      " 15  model year_81  100 non-null    uint8  \n",
      " 16  model year_82  100 non-null    uint8  \n",
      " 17  cylinders_4    100 non-null    uint8  \n",
      " 18  cylinders_8    100 non-null    uint8  \n",
      "dtypes: float64(4), uint8(15)\n",
      "memory usage: 4.7 KB\n"
     ]
    }
   ],
   "source": [
    "test_data.info()"
   ]
  },
  {
   "cell_type": "code",
   "execution_count": 84,
   "metadata": {
    "colab": {
     "base_uri": "https://localhost:8080/",
     "height": 468
    },
    "id": "AcvDcO2LoVIj",
    "outputId": "2345160b-3e94-4543-90c8-0042c004b67d"
   },
   "outputs": [
    {
     "name": "stdout",
     "output_type": "stream",
     "text": [
      "<class 'pandas.core.frame.DataFrame'>\n",
      "RangeIndex: 298 entries, 0 to 297\n",
      "Data columns (total 20 columns):\n",
      " #   Column          Non-Null Count  Dtype  \n",
      "---  ------          --------------  -----  \n",
      " 0   displacement    298 non-null    float64\n",
      " 1   horsepower      298 non-null    float64\n",
      " 2   weight          298 non-null    float64\n",
      " 3   acceleration    298 non-null    float64\n",
      " 4   fuel (L/100km)  298 non-null    float64\n",
      " 5   model year_70   298 non-null    uint8  \n",
      " 6   model year_71   298 non-null    uint8  \n",
      " 7   model year_72   298 non-null    uint8  \n",
      " 8   model year_73   298 non-null    uint8  \n",
      " 9   model year_74   298 non-null    uint8  \n",
      " 10  model year_75   298 non-null    uint8  \n",
      " 11  model year_76   298 non-null    uint8  \n",
      " 12  model year_77   298 non-null    uint8  \n",
      " 13  model year_78   298 non-null    uint8  \n",
      " 14  model year_79   298 non-null    uint8  \n",
      " 15  model year_80   298 non-null    uint8  \n",
      " 16  model year_81   298 non-null    uint8  \n",
      " 17  model year_82   298 non-null    uint8  \n",
      " 18  cylinders_4     298 non-null    uint8  \n",
      " 19  cylinders_8     298 non-null    uint8  \n",
      "dtypes: float64(5), uint8(15)\n",
      "memory usage: 16.1 KB\n"
     ]
    }
   ],
   "source": [
    "df.info()"
   ]
  },
  {
   "cell_type": "code",
   "execution_count": 85,
   "metadata": {
    "id": "xRCSTQmjp1c3"
   },
   "outputs": [],
   "source": [
    "test_data = pd.DataFrame(test_data)"
   ]
  },
  {
   "cell_type": "markdown",
   "metadata": {
    "id": "OwpYLDdVZK24"
   },
   "source": [
    "# Once you have generated predictions on the holdout and test data, create a submission file\n",
    "Your submission file should follow the Kaggle submission template.\n"
   ]
  },
  {
   "cell_type": "code",
   "execution_count": null,
   "metadata": {
    "colab": {
     "base_uri": "https://localhost:8080/",
     "height": 141
    },
    "id": "VQQqCw-8OB4k",
    "outputId": "409038f5-b9a8-4a2c-e6c6-4ca93bac9390"
   },
   "outputs": [
    {
     "data": {
      "text/html": [
       "<div>\n",
       "<style scoped>\n",
       "    .dataframe tbody tr th:only-of-type {\n",
       "        vertical-align: middle;\n",
       "    }\n",
       "\n",
       "    .dataframe tbody tr th {\n",
       "        vertical-align: top;\n",
       "    }\n",
       "\n",
       "    .dataframe thead th {\n",
       "        text-align: right;\n",
       "    }\n",
       "</style>\n",
       "<table border=\"1\" class=\"dataframe\">\n",
       "  <thead>\n",
       "    <tr style=\"text-align: right;\">\n",
       "      <th></th>\n",
       "      <th>id</th>\n",
       "      <th>predictions</th>\n",
       "    </tr>\n",
       "  </thead>\n",
       "  <tbody>\n",
       "    <tr>\n",
       "      <th>0</th>\n",
       "      <td>0</td>\n",
       "      <td>22.661621</td>\n",
       "    </tr>\n",
       "    <tr>\n",
       "      <th>1</th>\n",
       "      <td>1</td>\n",
       "      <td>6.381661</td>\n",
       "    </tr>\n",
       "    <tr>\n",
       "      <th>2</th>\n",
       "      <td>2</td>\n",
       "      <td>21.673614</td>\n",
       "    </tr>\n",
       "  </tbody>\n",
       "</table>\n",
       "</div>"
      ],
      "text/plain": [
       "   id  predictions\n",
       "0   0    22.661621\n",
       "1   1     6.381661\n",
       "2   2    21.673614"
      ]
     },
     "execution_count": 270,
     "metadata": {
      "tags": []
     },
     "output_type": "execute_result"
    }
   ],
   "source": [
    "# Here's a sample submission file\n",
    "sample_submission = pd.read_csv('https://raw.githubusercontent.com/onefishy/Rwanda-course-2020/master/Competition_data/sampleSubmission.csv') # read in the data as a DataFrame\n",
    "sample_submission.head(3) # show the first 3 rows of the dataset"
   ]
  },
  {
   "cell_type": "code",
   "execution_count": null,
   "metadata": {
    "id": "OC2DN-r_uNNF"
   },
   "outputs": [],
   "source": [
    "#index_col = np.arange(100)\n",
    "#index_col = list(index_col)"
   ]
  },
  {
   "cell_type": "code",
   "execution_count": null,
   "metadata": {
    "colab": {
     "base_uri": "https://localhost:8080/",
     "height": 364
    },
    "id": "3d3RVq5tdIGX",
    "outputId": "d1816e4b-3ac5-4924-e68e-a8334138e6fb"
   },
   "outputs": [
    {
     "data": {
      "text/plain": [
       "array([ 9.10320383, 11.67992622,  5.96223793, 18.11442207, 18.11442207,\n",
       "        9.27934146,  7.38630675, 10.39175775,  9.09563339,  9.29678069,\n",
       "       10.91105938,  8.68486588,  7.24313525,  7.01854776, 13.98979235,\n",
       "       15.5081781 , 12.84945045, 11.85947638, 10.33993998, 10.84227226,\n",
       "       17.19092936, 11.68381075,  7.11028767, 13.61487789, 17.27082545,\n",
       "        7.55842158,  9.18114339,  8.77061693, 14.88093564, 19.61337726,\n",
       "       13.187559  ,  6.32801323, 10.32103909,  8.97053447,  9.96966723,\n",
       "       16.19029776,  7.96426352,  8.24892102, 17.21744009, 10.65709506,\n",
       "        6.96157077, 17.21744009,  9.55918216, 16.24775401, 12.42382095,\n",
       "       13.57498972,  8.39039262, 10.44723015, 12.4860897 ,  6.62649578,\n",
       "       12.53722256, 12.11789139, 10.76206118,  9.32305659, 14.26404224,\n",
       "        9.47900092,  6.61937422,  8.15778275, 13.68288847,  6.93158797,\n",
       "        8.84020318,  7.35137783,  7.41950149, 13.76688344, 13.01925471,\n",
       "       11.84147585,  7.76926251,  7.13744283, 18.44952694, 15.91005398,\n",
       "       12.67447952,  9.48141547, 12.68381275,  9.88441566, 16.05839935,\n",
       "       17.69926821,  9.77645839, 16.37249131, 11.46644173, 12.382092  ,\n",
       "       10.12954688, 10.07266482,  7.87906544,  9.35768322, 13.76818157,\n",
       "        6.64278337,  7.90631931,  9.0853381 , 12.96478193, 19.4543815 ,\n",
       "        7.70536409,  8.94899049, 11.76603061,  6.62058736, 10.66944887,\n",
       "       17.61898035, 18.43701697, 19.19019206, 13.52256301, 17.5243257 ])"
      ]
     },
     "execution_count": 272,
     "metadata": {
      "tags": []
     },
     "output_type": "execute_result"
    }
   ],
   "source": [
    "predictions = bmodel.predict(test_data)\n",
    "predictions"
   ]
  },
  {
   "cell_type": "code",
   "execution_count": null,
   "metadata": {
    "id": "Uo4Zl2KkdKrO"
   },
   "outputs": [],
   "source": []
  },
  {
   "cell_type": "code",
   "execution_count": null,
   "metadata": {
    "id": "KLAoyYpDKn1Y"
   },
   "outputs": [],
   "source": [
    "\n",
    "# Save submission file\n",
    "id=np.arange(0,100)\n",
    "submission_sample = pd.DataFrame(predictions,id)\n",
    "submission_sample.to_csv('submission_sample.csv')\n",
    "dff=pd.read_csv('submission_sample.csv')\n",
    "dff.columns=dff.columns.str.strip().str.replace(' ', '_')\n",
    "submision34=dff.rename(columns={'Unnamed:_0':'id','0':'predictions'})\n",
    "submision34.to_csv('submision34.csv',index=False) "
   ]
  },
  {
   "cell_type": "code",
   "execution_count": null,
   "metadata": {
    "id": "zHAdBZiyMtss"
   },
   "outputs": [],
   "source": []
  },
  {
   "cell_type": "markdown",
   "metadata": {
    "id": "USxO2cDAPHN-"
   },
   "source": [
    "# Save and download the submission file and upload to the Kaggle website\n",
    "\n",
    "Then download `my_submission.csv` by running the following line and submit to the [Kaggle](https://www.kaggle.com/t/b9bc778c9e8842d28c5526f578e6c348) compeition website."
   ]
  },
  {
   "cell_type": "code",
   "execution_count": null,
   "metadata": {
    "colab": {
     "base_uri": "https://localhost:8080/",
     "height": 17
    },
    "id": "uCdnee70PFcX",
    "outputId": "db958aa9-849a-4353-9e3a-02b72c0c731c"
   },
   "outputs": [
    {
     "data": {
      "application/javascript": [
       "\n",
       "    async function download(id, filename, size) {\n",
       "      if (!google.colab.kernel.accessAllowed) {\n",
       "        return;\n",
       "      }\n",
       "      const div = document.createElement('div');\n",
       "      const label = document.createElement('label');\n",
       "      label.textContent = `Downloading \"${filename}\": `;\n",
       "      div.appendChild(label);\n",
       "      const progress = document.createElement('progress');\n",
       "      progress.max = size;\n",
       "      div.appendChild(progress);\n",
       "      document.body.appendChild(div);\n",
       "\n",
       "      const buffers = [];\n",
       "      let downloaded = 0;\n",
       "\n",
       "      const channel = await google.colab.kernel.comms.open(id);\n",
       "      // Send a message to notify the kernel that we're ready.\n",
       "      channel.send({})\n",
       "\n",
       "      for await (const message of channel.messages) {\n",
       "        // Send a message to notify the kernel that we're ready.\n",
       "        channel.send({})\n",
       "        if (message.buffers) {\n",
       "          for (const buffer of message.buffers) {\n",
       "            buffers.push(buffer);\n",
       "            downloaded += buffer.byteLength;\n",
       "            progress.value = downloaded;\n",
       "          }\n",
       "        }\n",
       "      }\n",
       "      const blob = new Blob(buffers, {type: 'application/binary'});\n",
       "      const a = document.createElement('a');\n",
       "      a.href = window.URL.createObjectURL(blob);\n",
       "      a.download = filename;\n",
       "      div.appendChild(a);\n",
       "      a.click();\n",
       "      div.remove();\n",
       "    }\n",
       "  "
      ],
      "text/plain": [
       "<IPython.core.display.Javascript object>"
      ]
     },
     "metadata": {
      "tags": []
     },
     "output_type": "display_data"
    },
    {
     "data": {
      "application/javascript": [
       "download(\"download_4e961409-f9e1-4edd-ab84-47d20b852195\", \"submision34.csv\", 2149)"
      ],
      "text/plain": [
       "<IPython.core.display.Javascript object>"
      ]
     },
     "metadata": {
      "tags": []
     },
     "output_type": "display_data"
    }
   ],
   "source": [
    "files.download('submision34.csv') "
   ]
  },
  {
   "cell_type": "code",
   "execution_count": null,
   "metadata": {
    "id": "hfE9qjw4KeAc"
   },
   "outputs": [],
   "source": []
  },
  {
   "cell_type": "code",
   "execution_count": null,
   "metadata": {
    "id": "tEPeHtoQqidY"
   },
   "outputs": [],
   "source": []
  },
  {
   "cell_type": "code",
   "execution_count": null,
   "metadata": {
    "id": "Jf9aDCebzc1E"
   },
   "outputs": [],
   "source": []
  }
 ],
 "metadata": {
  "accelerator": "GPU",
  "colab": {
   "collapsed_sections": [],
   "name": "Best sharon & Rozy Homework #1: Kaggle_Starter Code.ipynb",
   "provenance": []
  },
  "kernelspec": {
   "display_name": "Python 3",
   "language": "python",
   "name": "python3"
  },
  "language_info": {
   "codemirror_mode": {
    "name": "ipython",
    "version": 3
   },
   "file_extension": ".py",
   "mimetype": "text/x-python",
   "name": "python",
   "nbconvert_exporter": "python",
   "pygments_lexer": "ipython3",
   "version": "3.7.0"
  }
 },
 "nbformat": 4,
 "nbformat_minor": 1
}
